{
  "nbformat": 4,
  "nbformat_minor": 0,
  "metadata": {
    "colab": {
      "provenance": [],
      "include_colab_link": true
    },
    "kernelspec": {
      "display_name": "Python 3",
      "language": "python",
      "name": "python3"
    },
    "language_info": {
      "codemirror_mode": {
        "name": "ipython",
        "version": 3
      },
      "file_extension": ".py",
      "mimetype": "text/x-python",
      "name": "python",
      "nbconvert_exporter": "python",
      "pygments_lexer": "ipython3",
      "version": "3.8.1"
    }
  },
  "cells": [
    {
      "cell_type": "markdown",
      "metadata": {
        "id": "view-in-github",
        "colab_type": "text"
      },
      "source": [
        "<a href=\"https://colab.research.google.com/github/DSlaughter01/machine_learning/blob/main/dev_dan_homework1.ipynb\" target=\"_parent\"><img src=\"https://colab.research.google.com/assets/colab-badge.svg\" alt=\"Open In Colab\"/></a>"
      ]
    },
    {
      "cell_type": "markdown",
      "metadata": {
        "id": "7-jkWR1LhNMh"
      },
      "source": [
        "# Homework 1\n",
        "\n",
        "----------------------------------------------------\n",
        "Machine Learning                      \n",
        "\n",
        "Year 2022/2023\n",
        "\n",
        "*Vanessa Gómez Verdejo vanessa@tsc.uc3m.es*\n",
        "\n",
        "----------------------------------------------------"
      ]
    },
    {
      "cell_type": "code",
      "source": [
        "import matplotlib.pyplot as plt\n",
        "%matplotlib inline"
      ],
      "metadata": {
        "id": "qWcjEZVcYCTr"
      },
      "execution_count": null,
      "outputs": []
    },
    {
      "cell_type": "markdown",
      "source": [
        "In this homework we are going to work with the [*California Housing*](https://scikit-learn.org/stable/datasets/real_world.html#california-housing-dataset) problem.\n",
        "\n",
        "Complete the following exercises where you have to analyze the performance of diferent models as well different feature selection strategies.\n",
        "\n",
        "Do not forget to analyze the results answering the proposed questions."
      ],
      "metadata": {
        "id": "Z1fqDttogExa"
      }
    },
    {
      "cell_type": "markdown",
      "metadata": {
        "id": "nCXU4m2YmB2y"
      },
      "source": [
        "# 1. Performance evaluation of regression models (4 points)\n",
        "\n",
        "To solve this section you will have to follow the next steps:\n",
        "* 1. **Load database and preprocess the data**: use the function [fetch_california_housing](https://scikit-learn.org/stable/modules/generated/sklearn.datasets.fetch_california_housing.html) to load the data. Then, split it into training and test partitions (40% training and 60% test) and, finally, normalize it.  *Note: set the random seed of the training/test partition to $0$ to be able to replicate your results.*\n",
        "\n",
        "* 2. **Train a regression model with polynomial variables**. Here we will use both *Ridge Regression* and LASSO models. To properly design these models, you must jointly validate the degree of the polynomial and the regularization parameter of the regressor. To perform this joint validation, it is recommended to define the model with a pipeline and validate the degree of the polynomial in the range $\\{1, 2, 3, 4\\}$  and the regularization parameter in $\\{10^{-6}, 10^{-4}, 0.01, 1, 100\\}$. Note that using 8 input variables, the polynomial extension cannot use a very high degree to avoid the *curse of dimensionality* problem, i.e., defining so many polynomial components leads to oversizing the new data set posing memory, computation, .... problems.\n",
        "\n",
        "* 3. **Evaluation of the model on the test set and analysis of the results**. Measure the MSE on the test set.\n",
        "\n",
        "* 4. Compare the performance of the above models with that of a **K-NN regressor**.\n",
        "\n",
        "* 5. **Analysis of the results**: Analyze the results and try to answer these questions: What polynomial degree do polynomial regressors select? Why does K-NN improve these models? Why does a polynomial model of degree 3 or 4 not achieve similar performance to K-NN or at least improve the linear models?"
      ]
    },
    {
      "cell_type": "markdown",
      "metadata": {
        "id": "VHWjw1eAo_9V"
      },
      "source": [
        "## 2. Study of feature relevance (3 points)\n",
        "\n",
        "In this section, using different criteria, you have to analyze the relevance of the input features.\n",
        "To analyze the feature importances or relevances, you can use the following criteria:\n",
        "\n",
        "1. **Relevance ranking based on correlation**: as we did in the introductory notebook, use the correlation to define a ranking of the most relevant features. For computing the correlation values, use the training data.\n",
        "\n",
        "2. **Ridge linear regression weights**: We know that in a linear model *the weight magnitude can be an indicative of the feature relevance*. Train a Ridge Linear Regression model and use its weigth magnitude to generate a ranking of features.\n",
        "\n",
        "3. Please, **analyze in detail the different results**. Why do these methods provide different results? Point out the advantages/disadvantages of each feature ranking scheme.\n",
        "\n",
        "4. Use these feature relevances to apply a feature selection (selecting the $3$ most relevant features) and train the polynomial ridge regression model again (note that now you can use a higher polynomial degree, so try the poly degree values $\\{1,5,10,15\\}$). Do we get to improve the performance of this model? Why? Which feature relevance scheme performs better? Why?"
      ]
    },
    {
      "cell_type": "markdown",
      "source": [
        "# 3. Feature selection for non-linear models (3 points)\n",
        "\n",
        "The above criteria for selecting variables are linear and then we are using a non-linear regressor, that is not the most appropriate. In this last section we are going to analyze the advantages of using a non-linear feature selection. So, implement and evaluate the performance of the following feature selection methods.\n",
        "\n",
        "1. **[Mutual Information (MI)](https://en.wikipedia.org/wiki/Mutual_information)** as relevance criteria for feature ranking. Unlike correlation, MI is able to detect no-linear relationships between varaibles. Using the function [mutual_info_regression](https://scikit-learn.org/stable/modules/generated/sklearn.feature_selection.mutual_info_regression.html#sklearn.feature_selection.mutual_info_regression) obtain a ranking of variables based on MI and compute the performance provided with the 3 most relevant features over a Polynomial Ridge Regression model.\n",
        "\n",
        "\n",
        "2. **Greedy search based on the validation error**: Other feature selection scheme can consist in training a classifier with a given subset of features and evalaute its validation error to analyze whether this selection is good or not.However, exploring all possible subsets  is usually computationally unflexible (there are $2^D$ combinations!!!!); so a greedy search (fordward or backward) is usually prefered:\n",
        "\n",
        "  2.1 *Forward search*: It starts with an empty set and, iteratively, adds new features according to a relevance criterion (in this case, minimum validation MSE).\n",
        "\n",
        "  <img src=\"http://www.tsc.uc3m.es/~vanessa/Figs_notebooks/ML/Regression/Fig_Forward_search.png\" width=\"48%\" >\n",
        "\n",
        "  2.2 *Backward search*: It starts considering all the features and, iteratively, removes features according to a relevance criterion (in this case, minimum validation MSE).\n",
        "\n",
        "  <img src=\"http://www.tsc.uc3m.es/~vanessa/Figs_notebooks/ML/Regression/Fig_Backward_search.png\" width=\"48%\" >\n",
        "\n",
        "\n",
        "Discuss which of these strategies is most appropriate for use with a polymial Ridge Regression model. For the selected option, implement it and analyze the selected set of the three most relevant features, as well as its performance.\n",
        "\n"
      ],
      "metadata": {
        "id": "VVzcgdvZaLGo"
      }
    },
    {
      "cell_type": "markdown",
      "source": [
        "# Exercise 1, part 1: Importing and preprocessing the data"
      ],
      "metadata": {
        "id": "nPAlfH63avc0"
      }
    },
    {
      "cell_type": "code",
      "source": [
        "# Import the necessary libraries\n",
        "import numpy as np\n",
        "from sklearn.preprocessing import StandardScaler\n",
        "from sklearn.model_selection import train_test_split\n",
        "from sklearn.datasets import fetch_california_housing\n",
        "\n",
        "# Assign the data to a variable\n",
        "cali = fetch_california_housing()\n",
        "\n",
        "# Split the data into the relevant sections X with the target for each row\n",
        "X = cali.data\n",
        "Y = cali.target\n",
        "column_names = cali.feature_names\n",
        "\n",
        "# To see distribution per feature if required\n",
        "\n",
        "D = X.shape[1]\n",
        "plt.figure(figsize = (16,12))\n",
        "for d in range (D):\n",
        "  plt.subplot(3, 5, d+1)\n",
        "  plt.scatter(X[:,d], Y, s = 15)\n",
        "  plt.title(column_names[d])\n",
        "\n",
        "# Split the data into train and test sections (40% training, 60% test, so put test_size = 0.6)\n",
        "X_train, X_test, Y_train, Y_test = train_test_split(X, Y, test_size = 0.6, random_state = 0)\n",
        "\n",
        "# To check the size of each section of data\n",
        "# print(X_train.shape, X_test.shape, Y_train.shape, Y_test.shape)\n",
        "\n",
        "# Normalise the data using StandardScaler()\n",
        "transformer = StandardScaler().fit(X_train)\n",
        "X_train_norm = transformer.transform(X_train)\n",
        "X_test_norm =  transformer.transform(X_test)\n",
        "\n",
        "# To see the new mean and standard deviation for each column:\n",
        "print(f\"X_train_norm mean:\\n{np.mean(X_train_norm, axis = 0)}\\n\")\n",
        "print(f\"X_train_norm standard deviation:\\n{np.std(X_train_norm, axis = 0)}\\n\")\n",
        "print(f\"X_test_norm mean:\\n{np.mean(X_test_norm, axis = 0)}\\n\")\n",
        "print(f\"X_test_norm standard deviation:\\n{np.std(X_test_norm, axis = 0)}\\n\")\n"
      ],
      "metadata": {
        "id": "_Skj9auueA5P",
        "colab": {
          "base_uri": "https://localhost:8080/",
          "height": 746
        },
        "outputId": "77fe8528-443a-4603-e247-a041df8f198a"
      },
      "execution_count": null,
      "outputs": [
        {
          "output_type": "stream",
          "name": "stdout",
          "text": [
            "X_train_norm mean:\n",
            "[ 7.55758505e-15  6.09977185e-17 -5.19477065e-15 -1.06267212e-14\n",
            " -5.13895020e-17  7.12452781e-16  3.56999637e-14 -6.43138643e-15]\n",
            "\n",
            "X_train_norm standard deviation:\n",
            "[1. 1. 1. 1. 1. 1. 1. 1.]\n",
            "\n",
            "X_test_norm mean:\n",
            "[ 0.00904015 -0.00274668  0.01298447  0.0068286  -0.00195439  0.0127458\n",
            "  0.00946461 -0.00509713]\n",
            "\n",
            "X_test_norm standard deviation:\n",
            "[1.02956658 0.98870419 1.05275422 0.94597549 0.94851693 1.82290964\n",
            " 1.00550819 0.99658059]\n",
            "\n"
          ]
        },
        {
          "output_type": "display_data",
          "data": {
            "text/plain": [
              "<Figure size 1152x864 with 8 Axes>"
            ],
            "image/png": "[encoded data removed]"
          },
          "metadata": {
            "needs_background": "light"
          }
        }
      ]
    },
    {
      "cell_type": "markdown",
      "source": [
        "# Exercise 1, part 2: Training regression models with polynomial features"
      ],
      "metadata": {
        "id": "bqXKYfM6bHlt"
      }
    },
    {
      "cell_type": "markdown",
      "source": [
        "Ridge model"
      ],
      "metadata": {
        "id": "CqltN3wPiB2E"
      }
    },
    {
      "cell_type": "code",
      "source": [
        "# Import libraries specific to the problem:\n",
        "from sklearn.pipeline import Pipeline\n",
        "from sklearn.preprocessing import PolynomialFeatures\n",
        "from sklearn.linear_model import Ridge\n",
        "from sklearn.model_selection import GridSearchCV\n",
        "\n",
        "# We define our pipeline with 3 steps:\n",
        "ridge_pipe = Pipeline([('poly', PolynomialFeatures()),\n",
        "                 ('scaler', StandardScaler()),\n",
        "                 ('ridge', Ridge())])\n",
        "\n",
        "# Alpha range to be used in all of the tests in the exercises\n",
        "alpha_range = [10**(i) for i in range(-6, 3, 2)]\n",
        "\n",
        "# Define our tuning parameters: polynomial degree, and regularisation parameter\n",
        "ridge_params = {'poly__degree': [1, 2, 3, 4],\n",
        "          'ridge__alpha': alpha_range}\n",
        "\n",
        "# Define the grid function with a 5 fold cross-validation, using MSE as a scoring metric\n",
        "ridge_gs = GridSearchCV(estimator = ridge_pipe,\n",
        "                  param_grid = ridge_params,\n",
        "                  scoring = 'neg_mean_squared_error',\n",
        "                  cv = 5)\n",
        "\n",
        "# Fit the grid search function to the training set, and make predictions on the test set\n",
        "ridge_gs.fit(X_train, Y_train)\n",
        "ridge_test = ridge_gs.predict(X_test)"
      ],
      "metadata": {
        "id": "8zxHYJyUbPU3"
      },
      "execution_count": null,
      "outputs": []
    },
    {
      "cell_type": "markdown",
      "source": [
        "LASSO model"
      ],
      "metadata": {
        "id": "baxNyZPOiE6q"
      }
    },
    {
      "cell_type": "code",
      "source": [
        "# Import the LASSO model from sklearn\n",
        "from sklearn.linear_model import Lasso\n",
        "\n",
        "# Avoid warnings - otherwise the computer gives warnings that the function is not converging\n",
        "from warnings import filterwarnings\n",
        "filterwarnings('ignore')\n",
        "\n",
        "# We define our pipeline with 3 steps:\n",
        "lasso_pipe = Pipeline([('poly', PolynomialFeatures()),\n",
        "                 ('scaler', StandardScaler()),\n",
        "                 ('lasso', Lasso())])\n",
        "\n",
        "# Define our tuning parameters: polynomial degree, and regularisation parameter\n",
        "lasso_params = {'poly__degree': [1, 2, 3, 4],\n",
        "          'lasso__alpha': alpha_range}\n",
        "\n",
        "# Define the grid function with a 5 fold cross-validation, using MSE as a scoring metric\n",
        "lasso_gs = GridSearchCV(estimator = lasso_pipe,\n",
        "                  param_grid = lasso_params,\n",
        "                  scoring = 'neg_mean_squared_error',\n",
        "                  cv = 5)\n",
        "\n",
        "# Fit the grid search function, and make predictions on the test set\n",
        "lasso_gs.fit(X_train, Y_train)\n",
        "lasso_test = lasso_gs.predict(X_test)"
      ],
      "metadata": {
        "id": "zAlXKgn-iHBj"
      },
      "execution_count": null,
      "outputs": []
    },
    {
      "cell_type": "markdown",
      "source": [
        "# Exercise 1, part 3: Comparing the performance of the regression models"
      ],
      "metadata": {
        "id": "PT2h6-pxmHKd"
      }
    },
    {
      "cell_type": "code",
      "source": [
        "# Calculate the mean square error (MSE) of the ridge and LASSO models\n",
        "\n",
        "print(f\"MSE for the ridge model = {np.mean((Y_test - ridge_test)**2)}\")\n",
        "print(f\"MSE for the LASSO model = {np.mean((Y_test - lasso_test)**2)}\")"
      ],
      "metadata": {
        "colab": {
          "base_uri": "https://localhost:8080/"
        },
        "id": "QsePRrYQmUGf",
        "outputId": "cc6de506-dd8c-4b76-ea38-835ca444f3dd"
      },
      "execution_count": null,
      "outputs": [
        {
          "output_type": "stream",
          "name": "stdout",
          "text": [
            "MSE for the ridge model = 0.5419219732680354\n",
            "MSE for the LASSO model = 0.5427719748073777\n"
          ]
        }
      ]
    },
    {
      "cell_type": "markdown",
      "source": [
        "# Exercise 1, part 4: Comparing performance with a kNN model"
      ],
      "metadata": {
        "id": "4OCZR7Gem1m_"
      }
    },
    {
      "cell_type": "code",
      "source": [
        "# Import the kNN regression function\n",
        "from sklearn.neighbors import KNeighborsRegressor\n",
        "\n",
        "# We define our pipeline\n",
        "knn_pipe = Pipeline([('scaler', StandardScaler()),\n",
        "                     ('knn', KNeighborsRegressor())])\n",
        "\n",
        "# Then our parameters\n",
        "neigh = np.arange(1, 41)\n",
        "knn_params = {'knn__n_neighbors': neigh}\n",
        "\n",
        "# And finally our GridSearchCV function\n",
        "knn_gs = GridSearchCV(estimator = knn_pipe,\n",
        "                      param_grid = knn_params,\n",
        "                      scoring = 'neg_mean_squared_error',\n",
        "                      cv = 5)\n",
        "\n",
        "# Fit and predict\n",
        "knn_gs.fit(X_train, Y_train)\n",
        "knn_test = knn_gs.predict(X_test)\n",
        "\n",
        "# And calculate the MSE (note: we could also have used the mean_squared_error function imported from sklearn.metrics)\n",
        "print(f\"MSE for kNN regression = {np.mean((knn_test - Y_test)**2)}\")\n"
      ],
      "metadata": {
        "colab": {
          "base_uri": "https://localhost:8080/"
        },
        "id": "cxGdR6jwm58t",
        "outputId": "d9d1f18a-8c72-48ea-8f06-4ae2b0a7d7eb"
      },
      "execution_count": null,
      "outputs": [
        {
          "output_type": "stream",
          "name": "stdout",
          "text": [
            "MSE for kNN regression = 0.42655314155705626\n"
          ]
        }
      ]
    },
    {
      "cell_type": "markdown",
      "source": [
        "Conclusion: the kNN model has a lower MSE than both the ridge and LASSO models."
      ],
      "metadata": {
        "id": "A2__Sbm4uvK9"
      }
    },
    {
      "cell_type": "markdown",
      "source": [
        "# Exercise 1, part 5: Analysing the results"
      ],
      "metadata": {
        "id": "cmaMDH61wND0"
      }
    },
    {
      "cell_type": "code",
      "source": [
        "# What polynomial degree do polynomial regressors select?\n",
        "print(f\"The kNN model selected k to be: {knn_gs.best_params_}\")\n",
        "print(f\"The Ridge regression model found the best parameters to be: {ridge_gs.best_params_}\")\n",
        "print(f\"The LASSO regression model found the best parameters to be: {lasso_gs.best_params_}\")\n",
        "\n",
        "# Why does K-NN improve these models?\n",
        "\n",
        "# Why does a polynomial model of degree 3 or 4 not achieve similar performance to K-NN or at least improve the linear models?"
      ],
      "metadata": {
        "colab": {
          "base_uri": "https://localhost:8080/"
        },
        "id": "32u2vJQ7oHYV",
        "outputId": "202b27fd-249b-4bf4-fb13-e33b7dc71aff"
      },
      "execution_count": null,
      "outputs": [
        {
          "output_type": "stream",
          "name": "stdout",
          "text": [
            "The kNN model selected k to be: {'knn__n_neighbors': 13}\n",
            "The Ridge regression model found the best parameters to be: {'poly__degree': 1, 'ridge__alpha': 100}\n",
            "The LASSO regression model found the best parameters to be: {'lasso__alpha': 0.01, 'poly__degree': 1}\n"
          ]
        }
      ]
    },
    {
      "cell_type": "markdown",
      "source": [
        "Q. What polynomial degree do polynomial regressons select?\n",
        "\n",
        "A. In both the Ridge and LASSO regression models, the polynomial degree was 1.\n",
        "\n",
        "Q. Why does kNN improve on these models?\n",
        "\n",
        "A. Linear regression models perform well on problems where the solutions are linear, but this is not always the case - the fact that the kNN model performed better than the 2 linear regression models suggests that this problem is not linear. Linear regression models also assume variables to be independent of each other, which may not be the case. For example in this case, we may find a strong link between the average number of rooms in a house ('AveRooms'), and the average number of bedrooms in a house ('AveBedrms').\n",
        "\n",
        "Q. Why does a polynomial model of degree 3 or 4 not achieve similar performance to K-NN or at least improve the linear models?\n",
        "\n",
        "A. When we increase the degree of the polynomial, the model becomes susceptible to overfitting. This means that although it may fit the training data better, it may also perform worse on unseen data. While this is likely to be quite mild because the polynomial is only of degree 3 or 4, and because in each case we have a penalisation term, it may still be present. Without increasing the number of training points, this will not lead to a more accurate solutions."
      ],
      "metadata": {
        "id": "VZFPG5rS0AK8"
      }
    },
    {
      "cell_type": "markdown",
      "source": [
        "# Exercise 2, part 1: Relevance ranking based on correlation"
      ],
      "metadata": {
        "id": "nW69x8Wg7d2m"
      }
    },
    {
      "cell_type": "code",
      "source": [
        "# Import f_regression to give us a correlation score\n",
        "from sklearn.feature_selection import f_regression\n",
        "from sklearn.feature_selection import SelectKBest\n",
        "from collections import Counter\n",
        "\n",
        "# We can create a dictionary displaying feature (column) names and their regression score\n",
        "# Calculate regression for the training data (and normalise)\n",
        "reg, _ = f_regression(X_train, Y_train)\n",
        "reg /= np.max(reg)\n",
        "\n",
        "# Create a dictionary with the correlation values\n",
        "corr_dict = {column_names[i]: reg[i] for i in range(len(column_names))}\n",
        "for key, value in corr_dict.items():\n",
        "  print(key, ': ', value)\n",
        "\n",
        "# We can select 'feat' number of features using SelectKBest\n",
        "feat = 3\n",
        "selector = SelectKBest(f_regression, k = feat)\n",
        "selector.fit(X_train, Y_train)\n",
        "\n",
        "# Print the names of the best k features based on their regression scores\n",
        "print(f\"\\n{feat} best features using SelectKBest: {([column_names[id] for (id, mask) in enumerate(selector.get_support()) if mask])}\\n\")\n",
        "\n",
        "# Or, doing this manually from the dictionary, we can use Counter to get the coefficients as well\n",
        "corr = Counter(corr_dict)\n",
        "high_corr = corr.most_common(3)\n",
        "print(\"The 3 features with the largest correlation using Counter:\")\n",
        "for i in high_corr:\n",
        "    print(i[0],\" :\",i[1],\" \")\n"
      ],
      "metadata": {
        "colab": {
          "base_uri": "https://localhost:8080/"
        },
        "id": "nbJ1HxPI7dZY",
        "outputId": "5e1e6072-7e1c-49c3-b8c0-4f2af906de58"
      },
      "execution_count": null,
      "outputs": [
        {
          "output_type": "stream",
          "name": "stdout",
          "text": [
            "MedInc :  1.0\n",
            "HouseAge :  0.012297086266810496\n",
            "AveRooms :  0.028268185271716668\n",
            "AveBedrms :  0.0017711939591849807\n",
            "Population :  0.00025889180254550165\n",
            "AveOccup :  0.0020814458958391246\n",
            "Latitude :  0.019751929190423942\n",
            "Longitude :  0.0033862598249801918\n",
            "\n",
            "3 best features using SelectKBest: ['MedInc', 'AveRooms', 'Latitude']\n",
            "\n",
            "The 3 features with the largest correlation using Counter:\n",
            "MedInc  : 1.0  \n",
            "AveRooms  : 0.028268185271716668  \n",
            "Latitude  : 0.019751929190423942  \n"
          ]
        }
      ]
    },
    {
      "cell_type": "markdown",
      "source": [
        "# Exercise 2, part 2: Ridge linear regression weights"
      ],
      "metadata": {
        "id": "nU4X9ftYoJV5"
      }
    },
    {
      "cell_type": "code",
      "source": [
        "# Using the linear regression weights. Counter gives us the highest coefficients in the dictionary created below\n",
        "from sklearn.feature_selection import SelectFromModel\n",
        "\n",
        "# Run the ridge regression model for different values of alpha\n",
        "param_selected = {'alpha': alpha_range}\n",
        "\n",
        "r_coef_gs = GridSearchCV(estimator = Ridge(),\n",
        "                        param_grid = param_selected,\n",
        "                        cv = 5,\n",
        "                        scoring = 'neg_mean_squared_error')\n",
        "\n",
        "r_coef_gs.fit(X_train, Y_train)\n",
        "\n",
        "# We can see the most important features in terms of their coefficients 2 ways:\n",
        "# We can create a dictionary of all of the coefficients\n",
        "coef_list = r_coef_gs.best_estimator_.coef_\n",
        "coef_dict = {column_names[i] : abs(coef_list[i]) for i in range(len(column_names))}\n",
        "print('The absolute coefficients of each feature are:')\n",
        "for key, value in coef_dict.items():\n",
        "  print(key, \": \", value)\n",
        "\n",
        "# And choose the highest absolute values (magnitudes)\n",
        "co = Counter(coef_dict)\n",
        "high = co.most_common(3)\n",
        "print(\"\\nThe 3 features with the largest absolute coefficients:\")\n",
        "for key, value in high:\n",
        "    print(key, value, f\"where the column index of this feature is {list(coef_dict.keys()).index(key)}\")\n",
        "\n",
        "# Given the indices given by this dictionary, we can select our data\n",
        "\n",
        "# We can also choose the feat_ridge best features from the SelectFromModel function with Ridge estimator\n",
        "# Our r_coef_gs showed that alpha is 100, so this is what we use for our parameter here\n",
        "print(f'\\nThe optimal value of alpha is: {r_coef_gs.best_params_}')\n",
        "feat_ridge = 3\n",
        "sel_ridge = SelectFromModel(estimator = Ridge(alpha = 100), max_features = feat_ridge, threshold = -1).fit(X_train, Y_train)\n",
        "print(f\"\\n{feat_ridge} best features using SelectFromModel:\\n {([column_names[id] for (id, mask) in enumerate(sel_ridge.get_support()) if mask])}\")\n",
        "\n",
        "# Visualisation\n",
        "plt.figure()\n",
        "plt.stem(coef_list, markerfmt='o', label = 'Ridge Coefficients', use_line_collection=True)\n",
        "plt.legend()\n",
        "\n"
      ],
      "metadata": {
        "colab": {
          "base_uri": "https://localhost:8080/",
          "height": 612
        },
        "id": "CeQE3D4MoUlk",
        "outputId": "8db7d1ff-cd79-4794-8f08-d18e6bd00614"
      },
      "execution_count": null,
      "outputs": [
        {
          "output_type": "stream",
          "name": "stdout",
          "text": [
            "The absolute coefficients of each feature are:\n",
            "MedInc :  0.4340012780557122\n",
            "HouseAge :  0.010503491115624333\n",
            "AveRooms :  0.0837761022163014\n",
            "AveBedrms :  0.45984132630893876\n",
            "Population :  4.413113840596257e-06\n",
            "AveOccup :  0.005668457711674092\n",
            "Latitude :  0.3954792569733419\n",
            "Longitude :  0.4059507850281183\n",
            "\n",
            "The 3 features with the largest absolute coefficients:\n",
            "AveBedrms 0.45984132630893876 where the column index of this feature is 3\n",
            "MedInc 0.4340012780557122 where the column index of this feature is 0\n",
            "Longitude 0.4059507850281183 where the column index of this feature is 7\n",
            "\n",
            "The optimal value of alpha is: {'alpha': 100}\n",
            "\n",
            "3 best features using SelectFromModel:\n",
            " ['MedInc', 'AveBedrms', 'Longitude']\n"
          ]
        },
        {
          "output_type": "execute_result",
          "data": {
            "text/plain": [
              "<matplotlib.legend.Legend at 0x7f0624e68c90>"
            ]
          },
          "metadata": {},
          "execution_count": 16
        },
        {
          "output_type": "display_data",
          "data": {
            "text/plain": [
              "<Figure size 432x288 with 1 Axes>"
            ],
            "image/png": "[encoded data removed]"
          },
          "metadata": {
            "needs_background": "light"
          }
        }
      ]
    },
    {
      "cell_type": "markdown",
      "source": [
        "# Exercise 2, part 3: Analysis of the results"
      ],
      "metadata": {
        "id": "6ZvgJMURAkNP"
      }
    },
    {
      "cell_type": "markdown",
      "source": [
        "SelectKBest works well on univariate sets. This is appropriate since we are just basing our selection on regression.\n",
        "In terms of the two feature selection methods used regarding coefficients of the solution, SelectFromModel does not deal in absolute values, and so gives the largest coefficients a1, a2, a3 etc. where a1 > a2 > a3, whereas the dictionary method gives a1, a2, a3, where |a1| > |a2| > |a3|."
      ],
      "metadata": {
        "id": "e9PIu4auVDMi"
      }
    },
    {
      "cell_type": "markdown",
      "source": [
        "# Exercise 2, part 4: Retraining the Ridge model using feature selection"
      ],
      "metadata": {
        "id": "oWfo0vVUEIRe"
      }
    },
    {
      "cell_type": "code",
      "source": [
        "# Using feature selection from SelectFromModel on the Ridge model\n",
        "X_train_ridge_sel = sel_ridge.transform(X_train)\n",
        "X_test_ridge_sel = sel_ridge.transform(X_test)\n",
        "\n",
        "# Using feature selection from the kNN model\n",
        "X_train_knn_sel = selector.transform(X_train)\n",
        "X_test_knn_sel = selector.transform(X_test)\n",
        "\n",
        "# We define our pipeline with 3 steps:\n",
        "ridge_pipe_sel = Pipeline([('poly', PolynomialFeatures()),\n",
        "                 ('scaler', StandardScaler()),\n",
        "                 ('ridge', Ridge())])\n",
        "\n",
        "# Define our tuning parameters: polynomial degree, and regularisation parameter\n",
        "ridge_params_sel = {'poly__degree': [1, 5, 10, 15],\n",
        "          'ridge__alpha': alpha_range}\n",
        "\n",
        "# Define the grid function with a 5 fold cross-validation, using MSE as the judge\n",
        "ridge_gs_sel = GridSearchCV(estimator = ridge_pipe_sel,\n",
        "                  param_grid = ridge_params_sel,\n",
        "                  scoring = 'neg_mean_squared_error',\n",
        "                  cv = 5)\n",
        "\n",
        "# Duplicate this\n",
        "knn_gs_sel = ridge_gs_sel\n",
        "\n",
        "# Fit the grid search function to the ridge feature selection data, and make predictions on the test set\n",
        "ridge_gs_sel.fit(X_train_ridge_sel, Y_train)\n",
        "ridge_test_sel = ridge_gs_sel.predict(X_test_ridge_sel)\n",
        "\n",
        "# Do the same for the knn feature selection data\n",
        "knn_gs_sel.fit(X_train_knn_sel, Y_train)\n",
        "knn_test_sel = knn_gs_sel.predict(X_test_knn_sel)\n",
        "\n",
        "# MSE and best parameters\n",
        "print(f'Best alpha and polynomial degree using SelectFromModel selection features is: {ridge_gs_sel.best_params_}')\n",
        "print(f'The MSE using ridge selection features is:{np.mean((Y_test - ridge_test_sel)**2)}\\n')\n",
        "print(f'Best alpha and polynomial degree using kNN selection features is: {knn_gs_sel.best_params_}')\n",
        "print(f'The MSE using SelectKBest selection features is:{np.mean((Y_test - knn_test_sel)**2)}')"
      ],
      "metadata": {
        "colab": {
          "base_uri": "https://localhost:8080/"
        },
        "id": "ArUkylPuERLl",
        "outputId": "ba49982b-68a8-44b7-93ea-96b59b338981"
      },
      "execution_count": null,
      "outputs": [
        {
          "output_type": "stream",
          "name": "stdout",
          "text": [
            "Best alpha and polynomial degree using SelectFromModel selection features is: {'poly__degree': 15, 'ridge__alpha': 1e-06}\n",
            "The MSE using ridge selection features is:0.7140497222443206\n",
            "\n",
            "Best alpha and polynomial degree using kNN selection features is: {'poly__degree': 15, 'ridge__alpha': 1e-06}\n",
            "The MSE using SelectKBest selection features is:0.46754197054302515\n"
          ]
        }
      ]
    },
    {
      "cell_type": "markdown",
      "source": [
        "# Exercise 3, part 1: MI regression"
      ],
      "metadata": {
        "id": "o6kdL0xoM-1r"
      }
    },
    {
      "cell_type": "code",
      "source": [
        "from sklearn.feature_selection import mutual_info_regression\n",
        "\n",
        "# We first select the 3 best features based on the mutual information regression model\n",
        "feat_mir = 3\n",
        "sel_mir = selector = SelectKBest(mutual_info_regression, k=feat_mir)\n",
        "sel_mir.fit(X_train, Y_train)\n",
        "print(f\"{feat_mir} best features: {([column_names[id] for (id, mask) in enumerate(sel_mir.get_support()) if mask])}\")\n",
        "\n",
        "# Adapt the data to the selected features\n",
        "X_train_mir_sel = sel_mir.transform(X_train)\n",
        "X_test_mir_sel = sel_mir.transform(X_test)\n",
        "\n",
        "# We use the same model as before, only this time with our features selected from MI\n",
        "ridge_gs_sel.fit(X_train_mir_sel, Y_train)\n",
        "ridge_test_mir = ridge_gs_sel.predict(X_test_mir_sel)\n",
        "\n",
        "# Calculate MSE\n",
        "print(f'The MSE using MI selection features is:{np.mean((Y_test - ridge_test_mir)**2)}')"
      ],
      "metadata": {
        "colab": {
          "base_uri": "https://localhost:8080/"
        },
        "id": "FKg-5TADOhVX",
        "outputId": "00735e9a-1a99-4aab-86c8-ec290b049d5c"
      },
      "execution_count": null,
      "outputs": [
        {
          "output_type": "stream",
          "name": "stdout",
          "text": [
            "3 best features: ['MedInc', 'Latitude', 'Longitude']\n",
            "The MSE using MI selection features is:0.46754197054302515\n"
          ]
        }
      ]
    },
    {
      "cell_type": "markdown",
      "source": [
        "# Exercise 3, part 2: Greedy searches\n",
        "\n",
        "When discussing whether to use forward of backward feature selection methods, we can consider the compromise between computational complexity and accuracy. Given that here we have only a few features, the difference in computational time between the forward and backward models is likely to be small. This means that we can choose the method which explores the most sets of solutions, and therefore is likely to give the most accuracy. In the case where k < n/2 (where k is the number of features to be selected and n is the number of features in the set), the backward search is likely to be more accurate, because it explores more sets of solutions. In the case of k > n/2, it is the forward method. If n = k/2, these methods are likely to be comparable.\n",
        "\n",
        "The method which is computationally more expensive is to be preferred, because the difference in computation time is small, but the difference in accuracy could be large. In the case of k = 3, this is backward selection.\n",
        "\n",
        "In this particular case, we can see below that backwards selection gives the same feature selection as MI, which is so far by far our best estimate, so our statement above is in some way validated. HOWEVER, we explore the forward method to see if we can improve on this, because the result for the backward method for this case is already known through the MI selection run in exercise 3, part 1."
      ],
      "metadata": {
        "id": "oa8UtGD3M2VQ"
      }
    },
    {
      "cell_type": "code",
      "source": [
        "from sklearn.feature_selection import SequentialFeatureSelector\n",
        "\n",
        "sfs_n = 3\n",
        "\n",
        "# Use SequentialFeatureSelector to implement a greedy feature selection process with sfs_n best features\n",
        "# Forward selection\n",
        "sfs_f_selector = SequentialFeatureSelector(estimator=Ridge(),\n",
        "                                           n_features_to_select = sfs_n,\n",
        "                                           cv =5,\n",
        "                                           scoring = 'neg_mean_squared_error',\n",
        "                                           direction ='forward')\n",
        "\n",
        "sfs_f_selector.fit(X_train, Y_train)\n",
        "print(f\"{sfs_n} best features using forward selection: {([column_names[id] for (id, mask) in enumerate(sfs_f_selector.get_support()) if mask])}\")\n",
        "\n",
        "# Backward selection\n",
        "sfs_b_selector = SequentialFeatureSelector(estimator=Ridge(),\n",
        "                                           n_features_to_select = sfs_n,\n",
        "                                           cv =5,\n",
        "                                           scoring = 'neg_mean_squared_error',\n",
        "                                           direction ='backward')\n",
        "\n",
        "sfs_b_selector.fit(X_train, Y_train)\n",
        "print(f\"{sfs_n} best features using backward selection: {([column_names[id] for (id, mask) in enumerate(sfs_b_selector.get_support()) if mask])}\")\n",
        "\n",
        "# Using the forward search feature selection with the polynomial ridge regression model\n",
        "# Using the same pipeline as in the previous section, and fitting it to the selected features from the forward method\n",
        "\n",
        "# Transform the training data\n",
        "X_train_for_sel = sfs_f_selector.transform(X_train)\n",
        "X_test_for_sel = sfs_f_selector.transform(X_test)\n",
        "\n",
        "# Fit to the forward selection data\n",
        "ridge_gs_sel.fit(X_train_for_sel, Y_train)\n",
        "ridge_test_for = ridge_gs_sel.predict(X_test_for_sel)\n",
        "\n",
        "# Calculate MSE\n",
        "print(f'The MSE using forward selection features is:{np.mean((Y_test - ridge_test_for)**2)}')\n",
        "# State the MSE for backward selection = MI selection, just for direct comparison\n",
        "print(f'The MSE using backward selection features is:{np.mean((Y_test - ridge_test_mir)**2)}')"
      ],
      "metadata": {
        "colab": {
          "base_uri": "https://localhost:8080/"
        },
        "id": "AgAsSQ2XM62G",
        "outputId": "89d7be90-1d8b-4e47-95fb-83c2fb03ef4f"
      },
      "execution_count": null,
      "outputs": [
        {
          "output_type": "stream",
          "name": "stdout",
          "text": [
            "3 best features using forward selection: ['MedInc', 'HouseAge', 'Latitude']\n",
            "3 best features using backward selection: ['MedInc', 'Latitude', 'Longitude']\n",
            "The MSE using forward selection features is:0.5950305960890183\n",
            "The MSE using backward selection features is:0.46754197054302515\n"
          ]
        }
      ]
    },
    {
      "cell_type": "markdown",
      "source": [
        "Through running the feature selection methods, we can see that backwards greedy selection provides the best results when using a ridge method over the stated alpha and polynomial degree range - this is equal to MI feature selection, but computationally less expensive so to be preferred."
      ],
      "metadata": {
        "id": "vhoO6vc8i5uE"
      }
    }
  ]
}