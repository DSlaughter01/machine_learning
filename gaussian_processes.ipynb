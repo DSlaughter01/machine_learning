{
  "cells": [
    {
      "cell_type": "markdown",
      "metadata": {
        "id": "view-in-github",
        "colab_type": "text"
      },
      "source": [
        "<a href=\"https://colab.research.google.com/github/DSlaughter01/machine_learning/blob/main/gaussian_processes.ipynb\" target=\"_parent\"><img src=\"https://colab.research.google.com/assets/colab-badge.svg\" alt=\"Open In Colab\"/></a>"
      ]
    },
    {
      "cell_type": "markdown",
      "metadata": {
        "id": "S06EoKg2UBHF"
      },
      "source": [
        "------------------------------------------------------\n",
        "*Machine Learning Course*\n",
        "\n",
        "*Master in Information & Health Engineering*\n",
        "\n",
        "*Vanessa Gómez Verdejo vanessa@tsc.uc3m.es and Pablo M. Olmos olmos@tsc.uc3m.es*\n",
        "\n",
        "------------------------------------------------------\n",
        "\n",
        "**Daniel Slaughter** \\\n",
        "\n",
        "**Devashish Sonowal**"
      ]
    },
    {
      "cell_type": "markdown",
      "metadata": {
        "id": "hCG2Cr5PSz28"
      },
      "source": [
        "# Homework 4: Gaussian Processes\n",
        "\n",
        "The objective of this practice is to familiarize you with the use of Gaussian Processes, exploring the different extensions that we have seen in the theory session and analyzing the advantages that they can provide us against other models.\n",
        "\n",
        "For this purpose, in this HW we are going to work with an electrical load estimation problem available in the [UCI data repository](https://archive.ics.uci.edu/ml/datasets/Energy+efficiency#). Specifically, the problem consists of predicting the heating load (HL) and cooling load (CL) of a set of residential buildings from eight input variables for each building: relative compactness, floor area, wall area, roof area, total height, orientation, glazed area and glazed area distribution."
      ]
    },
    {
      "cell_type": "code",
      "execution_count": null,
      "metadata": {
        "colab": {
          "base_uri": "https://localhost:8080/"
        },
        "id": "3hKoCx7WaJrc",
        "outputId": "4bf89a81-ab0b-4c4a-d468-36e98a853bcf"
      },
      "outputs": [
        {
          "output_type": "stream",
          "name": "stdout",
          "text": [
            "Looking in indexes: https://pypi.org/simple, https://us-python.pkg.dev/colab-wheels/public/simple/\n",
            "Collecting GPy\n",
            "  Downloading GPy-1.10.0.tar.gz (959 kB)\n",
            "\u001b[K     |████████████████████████████████| 959 kB 4.2 MB/s \n",
            "\u001b[?25hRequirement already satisfied: numpy>=1.7 in /usr/local/lib/python3.8/dist-packages (from GPy) (1.21.6)\n",
            "Requirement already satisfied: six in /usr/local/lib/python3.8/dist-packages (from GPy) (1.15.0)\n",
            "Collecting paramz>=0.9.0\n",
            "  Downloading paramz-0.9.5.tar.gz (71 kB)\n",
            "\u001b[K     |████████████████████████████████| 71 kB 4.5 MB/s \n",
            "\u001b[?25hRequirement already satisfied: cython>=0.29 in /usr/local/lib/python3.8/dist-packages (from GPy) (0.29.32)\n",
            "Requirement already satisfied: scipy>=1.3.0 in /usr/local/lib/python3.8/dist-packages (from GPy) (1.7.3)\n",
            "Requirement already satisfied: decorator>=4.0.10 in /usr/local/lib/python3.8/dist-packages (from paramz>=0.9.0->GPy) (4.4.2)\n",
            "Building wheels for collected packages: GPy, paramz\n",
            "  Building wheel for GPy (setup.py) ... \u001b[?25l\u001b[?25hdone\n",
            "  Created wheel for GPy: filename=GPy-1.10.0-cp38-cp38-linux_x86_64.whl size=2783607 sha256=f6ee5736a6860e7a9466a4093ec27f7618ef181811751dca8e87e538ac73dc5b\n",
            "  Stored in directory: /root/.cache/pip/wheels/48/b3/22/31f07cfd7b182ea3703151b7e5a7d6447e3e1ac6aa5c529413\n",
            "  Building wheel for paramz (setup.py) ... \u001b[?25l\u001b[?25hdone\n",
            "  Created wheel for paramz: filename=paramz-0.9.5-py3-none-any.whl size=102566 sha256=faddd6e2cf1ef954e02c503fe6859c420b432bc2f41254c87b9de9a67449c6da\n",
            "  Stored in directory: /root/.cache/pip/wheels/66/78/6c/d98cb437834de5e29381786b4ba8a77ea68cca74653ab62713\n",
            "Successfully built GPy paramz\n",
            "Installing collected packages: paramz, GPy\n",
            "Successfully installed GPy-1.10.0 paramz-0.9.5\n"
          ]
        }
      ],
      "source": [
        "# You can install GPy using the following command\n",
        "!pip install GPy"
      ]
    },
    {
      "cell_type": "markdown",
      "metadata": {
        "id": "ee0bAkWFUBHI"
      },
      "source": [
        "## Exercise 1. Loading and data set preparation\n",
        "\n",
        "The following code cell downloads and loads in data set into a dataframe. From this dataframe, divide the data set into training (80%) and test (20%), and normalize the data to zero mean and unit standard deviation."
      ]
    },
    {
      "cell_type": "code",
      "execution_count": null,
      "metadata": {
        "colab": {
          "base_uri": "https://localhost:8080/"
        },
        "id": "l0O7hb1OUBHJ",
        "outputId": "cc7edf4f-246a-4763-fddd-947808ba9eb1"
      },
      "outputs": [
        {
          "output_type": "stream",
          "name": "stdout",
          "text": [
            "A sample of the data:\n",
            "     X1     X2     X3      X4   X5  X6   X7  X8     Y1     Y2\n",
            "0  0.98  514.5  294.0  110.25  7.0   2  0.0   0  15.55  21.33\n",
            "1  0.98  514.5  294.0  110.25  7.0   3  0.0   0  15.55  21.33\n",
            "2  0.98  514.5  294.0  110.25  7.0   4  0.0   0  15.55  21.33\n",
            "3  0.98  514.5  294.0  110.25  7.0   5  0.0   0  15.55  21.33\n",
            "4  0.90  563.5  318.5  122.50  7.0   2  0.0   0  20.84  28.28\n"
          ]
        }
      ],
      "source": [
        "import pandas as pd\n",
        "import GPy\n",
        "import numpy as np\n",
        "import matplotlib.pyplot as plt\n",
        "\n",
        "import warnings\n",
        "warnings.filterwarnings('ignore')\n",
        "\n",
        "# import the data from the website\n",
        "data = pd.read_excel('https://archive.ics.uci.edu/ml/machine-learning-databases/00242/ENB2012_data.xlsx')\n",
        "\n",
        "print('A sample of the data:')\n",
        "print(data.head())\n",
        "\n",
        "# In case you need it\n",
        "feature_names = {\n",
        "    'X1': 'Relative Compactness',\n",
        "    'X2': 'Surface Area',\n",
        "    'X3': 'Wall Area',\n",
        "    'X4': 'Roof Area',\n",
        "    'X5': 'Overall Height',\n",
        "    'X6': 'Orientation',\n",
        "    'X7': 'Glazing Area',\n",
        "    'X8': 'Glazing Area Distribution' }"
      ]
    },
    {
      "cell_type": "code",
      "execution_count": null,
      "metadata": {
        "id": "Q3KLmSoZ9cBV"
      },
      "outputs": [],
      "source": [
        "# Indexing for data by position\n",
        "X = data.iloc[:,0:8].values\n",
        "Y = data.iloc[:,8:10].values"
      ]
    },
    {
      "cell_type": "code",
      "execution_count": null,
      "metadata": {
        "colab": {
          "base_uri": "https://localhost:8080/"
        },
        "id": "PqN6qIWG9nYV",
        "outputId": "f9350cdd-2dae-4dc3-b18c-d4e09a896877"
      },
      "outputs": [
        {
          "output_type": "stream",
          "name": "stdout",
          "text": [
            "(614, 2)\n"
          ]
        }
      ],
      "source": [
        "# Split and normalize the data\n",
        "from sklearn.model_selection import train_test_split\n",
        "from sklearn.preprocessing import StandardScaler\n",
        "\n",
        "X_train, X_test, Y_train, Y_test = train_test_split(X, Y, test_size=0.2, random_state=0)\n",
        "print(Y_train.shape)\n",
        "HL_train, CL_train =  Y_train[:,0], Y_train[:,1]\n",
        "HL_test, CL_test = Y_test[:,0], Y_test[:,1]\n",
        "\n",
        "# Normalize the data\n",
        "transformer = StandardScaler()\n",
        "transformer.fit(X_train) # fit the transformer\n",
        "X_train = transformer.transform(X_train) # transform\n",
        "X_test =  transformer.transform(X_test)"
      ]
    },
    {
      "cell_type": "markdown",
      "metadata": {
        "id": "TEg8PR5WUBHV"
      },
      "source": [
        "## Exercise 2. Learning a basic GP (1.5 points)\n",
        "\n",
        "Now, let's start working with GPs and their implementation with the GPy library. Since we have two output variables, we are going to train two independent GPs, one to estimate HL and one to estimate CL. For each of the two GPs, you have to:\n",
        "\n",
        "**In the training data set:**.\n",
        "\n",
        "a) Build a GP regression model based on an RBF kernel.\n",
        "\n",
        "b) Fit the parameters of the covariance function and the variance of the noise.\n",
        "\n",
        "**In the test data set:**\n",
        "\n",
        "c) Calculate the mean absolute error (MAE) and mean squared error (MSE) on the test data using as model output the a posteriori mean or predicted mean of the GP for the optimized hyperparameters.\n",
        "\n",
        "Finally, compare both results (heat vs cool) taking into account the parameters adjusted by each model.\n",
        "\n"
      ]
    },
    {
      "cell_type": "code",
      "execution_count": null,
      "metadata": {
        "id": "f_DTKeP7-g5d"
      },
      "outputs": [],
      "source": [
        "# Notes on the steps taken:\n",
        "\n",
        "# Step 1:\n",
        "    # We don't have to create a kernel here, as GPRegression defaults to using an RBF kernel.\n",
        "    # if kernel is None:\n",
        "        #kernel = kern.RBF(X.shape[1])\n",
        "\n",
        "    # However, if we did need to do this, we would:\n",
        "      # Create the kernel as an RBF kernel\n",
        "      # Include variance and lengthscale, but as their default values, to define the kernel\n",
        "      # Implement this kernel in a model - one for CL, one for HL\n",
        "\n",
        "    # The kernel is the covariance matrix - this is automatically included by default\n",
        "\n",
        "# Step 2:\n",
        "    # We can display the model parameters using display (before optimisation)\n",
        "\n",
        "# Step 3:\n",
        "    # When fitting, we will see how these parameters change.\n",
        "    # This time, the parameter values have been optimized agains the log marginal likelihood.\n",
        "    # To check that this is indeed what we want, we could choose random restarts to see if\n",
        "    # the model arrives at the same conclusion each time (e.g. cl_gp.optimize_restarts(num_restarts = 10))\n",
        "    # The HL model does not, and tends to fluctuate although always around 740\n",
        "\n",
        "# Step 4:\n",
        "    # The default value for the number of samples is 10"
      ]
    },
    {
      "cell_type": "code",
      "execution_count": null,
      "metadata": {
        "colab": {
          "base_uri": "https://localhost:8080/",
          "height": 1000
        },
        "id": "y3QERuFyIan2",
        "outputId": "2cad9163-27e8-4bd4-80fa-48a6a285c50b"
      },
      "outputs": [
        {
          "output_type": "display_data",
          "data": {
            "text/plain": [
              "<GPy.models.gp_regression.GPRegression at 0x7ff2ee039520>"
            ],
            "text/html": [
              "<style type=\"text/css\">\n",
              ".pd{\n",
              "    font-family: \"Courier New\", Courier, monospace !important;\n",
              "    width: 100%;\n",
              "    padding: 3px;\n",
              "}\n",
              "</style>\n",
              "\n",
              "<p class=pd>\n",
              "<b>Model</b>: GP regression<br>\n",
              "<b>Objective</b>: 14829.548237683734<br>\n",
              "<b>Number of Parameters</b>: 3<br>\n",
              "<b>Number of Optimization Parameters</b>: 3<br>\n",
              "<b>Updates</b>: True<br>\n",
              "</p>\n",
              "<style type=\"text/css\">\n",
              ".tg  {font-family:\"Courier New\", Courier, monospace !important;padding:2px 3px;word-break:normal;border-collapse:collapse;border-spacing:0;border-color:#DCDCDC;margin:0px auto;width:100%;}\n",
              ".tg td{font-family:\"Courier New\", Courier, monospace !important;font-weight:bold;color:#444;background-color:#F7FDFA;border-style:solid;border-width:1px;overflow:hidden;word-break:normal;border-color:#DCDCDC;}\n",
              ".tg th{font-family:\"Courier New\", Courier, monospace !important;font-weight:normal;color:#fff;background-color:#26ADE4;border-style:solid;border-width:1px;overflow:hidden;word-break:normal;border-color:#DCDCDC;}\n",
              ".tg .tg-left{font-family:\"Courier New\", Courier, monospace !important;font-weight:normal;text-align:left;}\n",
              ".tg .tg-center{font-family:\"Courier New\", Courier, monospace !important;font-weight:normal;text-align:center;}\n",
              ".tg .tg-right{font-family:\"Courier New\", Courier, monospace !important;font-weight:normal;text-align:right;}\n",
              "</style>\n",
              "<table class=\"tg\"><tr><th><b>  GP_regression.         </b></th><th><b>value</b></th><th><b>constraints</b></th><th><b>priors</b></th></tr>\n",
              "<tr><td class=tg-left>  rbf.variance           </td><td class=tg-right>  1.0</td><td class=tg-center>    +ve    </td><td class=tg-center>      </td></tr>\n",
              "<tr><td class=tg-left>  rbf.lengthscale        </td><td class=tg-right>  1.0</td><td class=tg-center>    +ve    </td><td class=tg-center>      </td></tr>\n",
              "<tr><td class=tg-left>  Gaussian_noise.variance</td><td class=tg-right>  1.0</td><td class=tg-center>    +ve    </td><td class=tg-center>      </td></tr>\n",
              "</table>"
            ]
          },
          "metadata": {}
        },
        {
          "output_type": "display_data",
          "data": {
            "text/plain": [
              "<GPy.models.gp_regression.GPRegression at 0x7ff2ee039220>"
            ],
            "text/html": [
              "<style type=\"text/css\">\n",
              ".pd{\n",
              "    font-family: \"Courier New\", Courier, monospace !important;\n",
              "    width: 100%;\n",
              "    padding: 3px;\n",
              "}\n",
              "</style>\n",
              "\n",
              "<p class=pd>\n",
              "<b>Model</b>: GP regression<br>\n",
              "<b>Objective</b>: 12752.952794393848<br>\n",
              "<b>Number of Parameters</b>: 3<br>\n",
              "<b>Number of Optimization Parameters</b>: 3<br>\n",
              "<b>Updates</b>: True<br>\n",
              "</p>\n",
              "<style type=\"text/css\">\n",
              ".tg  {font-family:\"Courier New\", Courier, monospace !important;padding:2px 3px;word-break:normal;border-collapse:collapse;border-spacing:0;border-color:#DCDCDC;margin:0px auto;width:100%;}\n",
              ".tg td{font-family:\"Courier New\", Courier, monospace !important;font-weight:bold;color:#444;background-color:#F7FDFA;border-style:solid;border-width:1px;overflow:hidden;word-break:normal;border-color:#DCDCDC;}\n",
              ".tg th{font-family:\"Courier New\", Courier, monospace !important;font-weight:normal;color:#fff;background-color:#26ADE4;border-style:solid;border-width:1px;overflow:hidden;word-break:normal;border-color:#DCDCDC;}\n",
              ".tg .tg-left{font-family:\"Courier New\", Courier, monospace !important;font-weight:normal;text-align:left;}\n",
              ".tg .tg-center{font-family:\"Courier New\", Courier, monospace !important;font-weight:normal;text-align:center;}\n",
              ".tg .tg-right{font-family:\"Courier New\", Courier, monospace !important;font-weight:normal;text-align:right;}\n",
              "</style>\n",
              "<table class=\"tg\"><tr><th><b>  GP_regression.         </b></th><th><b>value</b></th><th><b>constraints</b></th><th><b>priors</b></th></tr>\n",
              "<tr><td class=tg-left>  rbf.variance           </td><td class=tg-right>  1.0</td><td class=tg-center>    +ve    </td><td class=tg-center>      </td></tr>\n",
              "<tr><td class=tg-left>  rbf.lengthscale        </td><td class=tg-right>  1.0</td><td class=tg-center>    +ve    </td><td class=tg-center>      </td></tr>\n",
              "<tr><td class=tg-left>  Gaussian_noise.variance</td><td class=tg-right>  1.0</td><td class=tg-center>    +ve    </td><td class=tg-center>      </td></tr>\n",
              "</table>"
            ]
          },
          "metadata": {}
        },
        {
          "output_type": "stream",
          "name": "stdout",
          "text": [
            "Optimization restart 1/5, f = 1355.70276814816\n",
            "Optimization restart 2/5, f = 1355.7027681484842\n",
            "Optimization restart 3/5, f = 1355.7027681481638\n",
            "Optimization restart 4/5, f = 1355.7027681481222\n",
            "Optimization restart 5/5, f = 1355.70276995629\n",
            "Optimization restart 1/5, f = 736.2776928588316\n",
            "Optimization restart 2/5, f = 736.2317717049963\n",
            "Optimization restart 3/5, f = 736.2489143740172\n",
            "Optimization restart 4/5, f = 736.9906497673428\n",
            "Optimization restart 5/5, f = 737.844258265103\n"
          ]
        },
        {
          "output_type": "display_data",
          "data": {
            "text/plain": [
              "<GPy.models.gp_regression.GPRegression at 0x7ff2ee039520>"
            ],
            "text/html": [
              "<style type=\"text/css\">\n",
              ".pd{\n",
              "    font-family: \"Courier New\", Courier, monospace !important;\n",
              "    width: 100%;\n",
              "    padding: 3px;\n",
              "}\n",
              "</style>\n",
              "\n",
              "<p class=pd>\n",
              "<b>Model</b>: GP regression<br>\n",
              "<b>Objective</b>: 1355.7027681481222<br>\n",
              "<b>Number of Parameters</b>: 3<br>\n",
              "<b>Number of Optimization Parameters</b>: 3<br>\n",
              "<b>Updates</b>: True<br>\n",
              "</p>\n",
              "<style type=\"text/css\">\n",
              ".tg  {font-family:\"Courier New\", Courier, monospace !important;padding:2px 3px;word-break:normal;border-collapse:collapse;border-spacing:0;border-color:#DCDCDC;margin:0px auto;width:100%;}\n",
              ".tg td{font-family:\"Courier New\", Courier, monospace !important;font-weight:bold;color:#444;background-color:#F7FDFA;border-style:solid;border-width:1px;overflow:hidden;word-break:normal;border-color:#DCDCDC;}\n",
              ".tg th{font-family:\"Courier New\", Courier, monospace !important;font-weight:normal;color:#fff;background-color:#26ADE4;border-style:solid;border-width:1px;overflow:hidden;word-break:normal;border-color:#DCDCDC;}\n",
              ".tg .tg-left{font-family:\"Courier New\", Courier, monospace !important;font-weight:normal;text-align:left;}\n",
              ".tg .tg-center{font-family:\"Courier New\", Courier, monospace !important;font-weight:normal;text-align:center;}\n",
              ".tg .tg-right{font-family:\"Courier New\", Courier, monospace !important;font-weight:normal;text-align:right;}\n",
              "</style>\n",
              "<table class=\"tg\"><tr><th><b>  GP_regression.         </b></th><th><b>             value</b></th><th><b>constraints</b></th><th><b>priors</b></th></tr>\n",
              "<tr><td class=tg-left>  rbf.variance           </td><td class=tg-right> 405.2302692460605</td><td class=tg-center>    +ve    </td><td class=tg-center>      </td></tr>\n",
              "<tr><td class=tg-left>  rbf.lengthscale        </td><td class=tg-right>1.9026464927574689</td><td class=tg-center>    +ve    </td><td class=tg-center>      </td></tr>\n",
              "<tr><td class=tg-left>  Gaussian_noise.variance</td><td class=tg-right>1.0675103960987942</td><td class=tg-center>    +ve    </td><td class=tg-center>      </td></tr>\n",
              "</table>"
            ]
          },
          "metadata": {}
        },
        {
          "output_type": "display_data",
          "data": {
            "text/plain": [
              "<GPy.models.gp_regression.GPRegression at 0x7ff2ee039220>"
            ],
            "text/html": [
              "<style type=\"text/css\">\n",
              ".pd{\n",
              "    font-family: \"Courier New\", Courier, monospace !important;\n",
              "    width: 100%;\n",
              "    padding: 3px;\n",
              "}\n",
              "</style>\n",
              "\n",
              "<p class=pd>\n",
              "<b>Model</b>: GP regression<br>\n",
              "<b>Objective</b>: 736.2317717049963<br>\n",
              "<b>Number of Parameters</b>: 3<br>\n",
              "<b>Number of Optimization Parameters</b>: 3<br>\n",
              "<b>Updates</b>: True<br>\n",
              "</p>\n",
              "<style type=\"text/css\">\n",
              ".tg  {font-family:\"Courier New\", Courier, monospace !important;padding:2px 3px;word-break:normal;border-collapse:collapse;border-spacing:0;border-color:#DCDCDC;margin:0px auto;width:100%;}\n",
              ".tg td{font-family:\"Courier New\", Courier, monospace !important;font-weight:bold;color:#444;background-color:#F7FDFA;border-style:solid;border-width:1px;overflow:hidden;word-break:normal;border-color:#DCDCDC;}\n",
              ".tg th{font-family:\"Courier New\", Courier, monospace !important;font-weight:normal;color:#fff;background-color:#26ADE4;border-style:solid;border-width:1px;overflow:hidden;word-break:normal;border-color:#DCDCDC;}\n",
              ".tg .tg-left{font-family:\"Courier New\", Courier, monospace !important;font-weight:normal;text-align:left;}\n",
              ".tg .tg-center{font-family:\"Courier New\", Courier, monospace !important;font-weight:normal;text-align:center;}\n",
              ".tg .tg-right{font-family:\"Courier New\", Courier, monospace !important;font-weight:normal;text-align:right;}\n",
              "</style>\n",
              "<table class=\"tg\"><tr><th><b>  GP_regression.         </b></th><th><b>             value</b></th><th><b>constraints</b></th><th><b>priors</b></th></tr>\n",
              "<tr><td class=tg-left>  rbf.variance           </td><td class=tg-right> 72243188.70348239</td><td class=tg-center>    +ve    </td><td class=tg-center>      </td></tr>\n",
              "<tr><td class=tg-left>  rbf.lengthscale        </td><td class=tg-right> 16.79683168691435</td><td class=tg-center>    +ve    </td><td class=tg-center>      </td></tr>\n",
              "<tr><td class=tg-left>  Gaussian_noise.variance</td><td class=tg-right>0.1370065087232348</td><td class=tg-center>    +ve    </td><td class=tg-center>      </td></tr>\n",
              "</table>"
            ]
          },
          "metadata": {}
        },
        {
          "output_type": "stream",
          "name": "stdout",
          "text": [
            "Cold Load mean absolute error = 1.9966463407213197\n",
            "Hot Load mean squared error = 0.33930022100365054\n",
            "Cold Load mean absolute error = 1.0045214800406688\n",
            "Hot Load mean absolute error = 0.3836028047399587\n"
          ]
        }
      ],
      "source": [
        "from IPython.display import display\n",
        "from sklearn.metrics import mean_absolute_error\n",
        "from sklearn.metrics import mean_squared_error\n",
        "\n",
        "train_samp, test_samp = X_train.shape[0], X_test.shape[0]\n",
        "\n",
        "# Step 1:\n",
        "cl_gp = GPy.models.GPRegression(X_train, CL_train.reshape(-1, 1))\n",
        "hl_gp = GPy.models.GPRegression(X_train, HL_train.reshape(-1, 1))\n",
        "\n",
        "# Step 2:\n",
        "display(cl_gp)\n",
        "display(hl_gp)\n",
        "\n",
        "# Step 3:\n",
        "# cl_gp.optimize(messages = True)\n",
        "cl_gp.optimize_restarts(num_restarts = 5)\n",
        "# hl_gp.optimize(messages = True)\n",
        "hl_gp.optimize_restarts(num_restarts = 5)\n",
        "\n",
        "# Step 4: Find the posterior parameters of the test data, after optimisation\n",
        "cl_posterior_test = cl_gp.posterior_samples_f(X_test)\n",
        "hl_posterior_test = hl_gp.posterior_samples_f(X_test)\n",
        "\n",
        "display(cl_gp)\n",
        "display(hl_gp)\n",
        "# Plot\n",
        "# plt.plot(X_train, cl_posterior_test.reshape([-1, train_samp]), '--', lw = 0.5)\n",
        "# plt.plot(X_train, cl_posterior_test.reshape([-1, train_samp]), '-o', lw = 0.5)\n",
        "# plt.show()\n",
        "\n",
        "# Step 5: .optimize fits the function to learn the best hyperparameters. Given this fitted model,\n",
        "# we call .predict on the test data to get the covariance matrix 'cov_cl/hl', and mean.\n",
        "pred_cl = cl_gp.predict(X_test, full_cov = True)\n",
        "pred_hl = hl_gp.predict(X_test, full_cov = True)\n",
        "\n",
        "# Step 6: Calculate the mean squared error\n",
        "cl_mse = mean_squared_error(CL_test, pred_cl[0])\n",
        "hl_mse = mean_squared_error(HL_test, pred_hl[0])\n",
        "\n",
        "# Step 7: Calculate the mean absolute error\n",
        "cl_mae = mean_absolute_error(CL_test, pred_cl[0])\n",
        "hl_mae = mean_absolute_error(HL_test, pred_hl[0])\n",
        "\n",
        "# Step 8: Display the results\n",
        "print(f'Cold Load mean absolute error = {cl_mse}')\n",
        "print(f'Hot Load mean squared error = {hl_mse}')\n",
        "print(f'Cold Load mean absolute error = {cl_mae}')\n",
        "print(f'Hot Load mean absolute error = {hl_mae}')"
      ]
    },
    {
      "cell_type": "markdown",
      "source": [
        "**Discussion** Here, we can see that both the mean absolute error and the mean squared error are lower for the Hot Load than for the Cold Load, suggesting a more accurate GP model when predicting Hot Load, whichever metric we used. There was a lot more Gaussian noise variance in the Cold Load GP, but the rbf variance and lengthscales were much lower than in the Cold Load GP."
      ],
      "metadata": {
        "id": "yxJ7OiF2ee4H"
      }
    },
    {
      "cell_type": "markdown",
      "metadata": {
        "id": "8IjHRMX0cvK_"
      },
      "source": [
        "## Exercise 2 (extension). Safe estimation of the load production  (0.5 points)\n",
        "\n",
        "The main objective of the load forecasting problem is to have a good estimate of the energy demand in order to adjust the generation to this demand trying to minimize the production excess and minimizing a failure in the system due to lack of energy production (i.e. that we generate less energy than the demand).\n",
        "\n",
        "In this section we will make use of the predictive distribution of our model to make a conservative estimate of the energy demand. To do so, instead of considering that the energy demanded will be the mean of the predictive distribution we will consider that in the worst case the energy demanded will be the upper limit of the 95% confidence interval which as we know is given by:\n",
        "$$ y_{\\rm IC 95 sup} = y_{\\rm mean} + 1.96* y_{\\rm std}$$  \n",
        "where $y_{\\rm mean}$ and $y_{\\rm std}$ are, respectively, the mean and standard deviation of the predictive distribution of each sample.\n",
        "\n",
        "Considering that this model output is a conservative estimate of the load demand (for both HL and CL), obtain the total amount of energy that would be produced in each case and the percentage of *system failures*, i.e., the number of times the load demand is greater than the energy produced over the total number of samples in our test set.\n",
        "\n",
        "Analyze the obatined results, mainly, discussing whether the percentage of *system failures* matches with expected one."
      ]
    },
    {
      "cell_type": "code",
      "execution_count": null,
      "metadata": {
        "colab": {
          "base_uri": "https://localhost:8080/"
        },
        "id": "BRF-HKwfIdwT",
        "outputId": "396a7265-2ccd-49e1-d53c-05d95ca5f88a"
      },
      "outputs": [
        {
          "output_type": "stream",
          "name": "stdout",
          "text": [
            "First 10 CL confidence ranges\n",
            "[15.47191848] [19.9757431]\n",
            "[11.05767983] [15.92815486]\n",
            "[35.63481451] [40.39491054]\n",
            "[18.35827356] [24.3205685]\n",
            "[29.96362083] [36.23058299]\n",
            "[29.60617311] [34.98162893]\n",
            "[26.3899618] [31.53218727]\n",
            "[30.66148899] [35.45731907]\n",
            "[28.63197509] [33.83090045]\n",
            "[25.21134472] [30.20338523]\n",
            "\n",
            "3.25% of CL systems failed when using the 95% confidence interval\n",
            "4.55% of HL systems failed when using the 95% confidence interval\n"
          ]
        }
      ],
      "source": [
        "# We can use predict_quantiles to get the confidence range, according to the GPy documentation\n",
        "cl_conf_int = cl_gp.predict_quantiles(X_test)\n",
        "hl_conf_int = hl_gp.predict_quantiles(X_test)\n",
        "\n",
        "# This returns the a tuple of lower and upper bounds; we can print the first 10 items of\n",
        "# the CL confidence interval to see this.\n",
        "print('First 10 CL confidence ranges')\n",
        "for i in range(10):\n",
        "  print(cl_conf_int[0][i], cl_conf_int[1][i])\n",
        "\n",
        "# Then we compare this with the upper limit of the actual results, keeping track of the number of system failures\n",
        "cl_total_fail, hl_total_fail, cl_tot_en, hl_tot_en, test_samp = 0, 0, 0, 0, CL_test.shape[0]\n",
        "\n",
        "# We use the second column as the upper bound\n",
        "for i in range(test_samp):\n",
        "\n",
        "  # Update total energy\n",
        "  cl_tot_en += cl_conf_int[1][i]\n",
        "  hl_tot_en += hl_conf_int[1][i]\n",
        "\n",
        "  # Compare predicted with actual\n",
        "  if CL_test[i] > cl_conf_int[1][i]:\n",
        "    cl_total_fail += 1\n",
        "  if HL_test[i] > hl_conf_int[1][i]:\n",
        "    hl_total_fail += 1\n",
        "\n",
        "# Actual failures as a percentage of total samples\n",
        "cl_fail_pc, hl_fail_pc = 100*cl_total_fail/test_samp, 100*hl_total_fail/test_samp\n",
        "\n",
        "print(f'\\n{\"{:.2f}\".format(cl_fail_pc)}% of CL systems failed when using the 95% confidence interval')\n",
        "print(f'{\"{:.2f}\".format(hl_fail_pc)}% of HL systems failed when using the 95% confidence interval')"
      ]
    },
    {
      "cell_type": "markdown",
      "metadata": {
        "id": "_8JZLnABbDfA"
      },
      "source": [
        "## Exercise 3. Analysis of the input feature relevances (2 points)\n",
        "\n",
        "As we know, we can combine the above GPs design with an ARD (Automatic Relevance Determination) so that each input dimension is weighted with a different scale length in order to analyze the relevance of each variable in the model.\n",
        "\n",
        "Modify the above design so that the kernel includes an ARD and based on the ARD parameters found, indicate which variables are most important for the regression. Do not forget to include in the kernel design some constant noise term (in case all the input variables drop out of weight).\n",
        "\n",
        "\n",
        "Next, train a Random Forest for regression and use the `feature_importances` parameter of this model to also analyze the relevance of each variable.\n",
        "\n",
        "Compare the results with those of the previous model and discuss the similarities or differences between the most relevance features. For this analysis, you may find it useful to analyze the correlations between the input features."
      ]
    },
    {
      "cell_type": "code",
      "execution_count": null,
      "metadata": {
        "colab": {
          "base_uri": "https://localhost:8080/",
          "height": 1000
        },
        "id": "rDOpyPDAIg79",
        "outputId": "0209af3a-1cf6-4b43-d656-30b42f37cf70"
      },
      "outputs": [
        {
          "output_type": "stream",
          "name": "stdout",
          "text": [
            "Optimization restart 1/5, f = 1227.1469107788785\n",
            "Optimization restart 2/5, f = 1230.3241775567456\n",
            "Optimization restart 3/5, f = 1232.0668868745192\n",
            "Optimization restart 4/5, f = 1230.6745003887877\n",
            "Optimization restart 5/5, f = 1227.020648112634\n",
            "Optimization restart 1/5, f = 635.5263636282914\n",
            "Optimization restart 2/5, f = 525.8140493510091\n",
            "Optimization restart 3/5, f = 505.5626033879756\n",
            "Optimization restart 4/5, f = 561.1893311041086\n",
            "Optimization restart 5/5, f = 528.1288238178303\n",
            "\n",
            "The lengthscale values for the CL RBF kernel are: \n",
            "   \u001b[1mindex\u001b[0;0m  |  GP_regression.sum.rbf.lengthscale  |  constraints  |  priors\n",
            "  \u001b[1m[0]  \u001b[0;0m  |                         2.08500067  |      +ve      |        \n",
            "  \u001b[1m[1]  \u001b[0;0m  |                         3.17036171  |      +ve      |        \n",
            "  \u001b[1m[2]  \u001b[0;0m  |                         1.14348222  |      +ve      |        \n",
            "  \u001b[1m[3]  \u001b[0;0m  |                       153.30151665  |      +ve      |        \n",
            "  \u001b[1m[4]  \u001b[0;0m  |                       118.73730131  |      +ve      |        \n",
            "  \u001b[1m[5]  \u001b[0;0m  |                       216.77748998  |      +ve      |        \n",
            "  \u001b[1m[6]  \u001b[0;0m  |                        12.31216593  |      +ve      |        \n",
            "  \u001b[1m[7]  \u001b[0;0m  |                       629.53827856  |      +ve      |        \n",
            "\n",
            "The lengthscale values for the HL RBF kernel are: \n",
            "   \u001b[1mindex\u001b[0;0m  |  GP_regression.sum.rbf.lengthscale  |  constraints  |  priors\n",
            "  \u001b[1m[0]  \u001b[0;0m  |                         3.03236142  |      +ve      |        \n",
            "  \u001b[1m[1]  \u001b[0;0m  |                         5.25672239  |      +ve      |        \n",
            "  \u001b[1m[2]  \u001b[0;0m  |                         1.56701272  |      +ve      |        \n",
            "  \u001b[1m[3]  \u001b[0;0m  |                       380.81059997  |      +ve      |        \n",
            "  \u001b[1m[4]  \u001b[0;0m  |                       409.41517622  |      +ve      |        \n",
            "  \u001b[1m[5]  \u001b[0;0m  |                      1397.40778757  |      +ve      |        \n",
            "  \u001b[1m[6]  \u001b[0;0m  |                         3.39696654  |      +ve      |        \n",
            "  \u001b[1m[7]  \u001b[0;0m  |                       333.22291408  |      +ve      |        \n"
          ]
        },
        {
          "output_type": "display_data",
          "data": {
            "text/plain": [
              "<Figure size 432x288 with 2 Axes>"
            ],
            "image/png": "[encoded data removed]"
          },
          "metadata": {
            "needs_background": "light"
          }
        },
        {
          "output_type": "display_data",
          "data": {
            "text/plain": [
              "<Figure size 432x288 with 2 Axes>"
            ],
            "image/png": "[encoded data removed]"
          },
          "metadata": {
            "needs_background": "light"
          }
        },
        {
          "output_type": "stream",
          "name": "stdout",
          "text": [
            "Cold Load mean squared error when using GP with ARD = 3.3576144984889216\n",
            "Hot Load mean squared error when using GP with ARD = 0.278828647241292\n",
            "Cold Load mean squared error when using Random Forest = 3.3290172498051955\n",
            "Hot Load mean squared error when using Random Forest = 0.35826640701558155\n",
            "Cold Load mean absolute error when using GP with ARD = 1.218814553749509\n",
            "Hot Load mean absolute error when using GP with ARD = 0.35984386014592695\n",
            "Cold Load mean absolute error when using Random Forest = 1.0815227272727257\n",
            "Hot Load mean absolute error when using Random Forest = 0.38636766233766295\n"
          ]
        },
        {
          "output_type": "display_data",
          "data": {
            "text/plain": [
              "<Figure size 432x288 with 1 Axes>"
            ],
            "image/png": "[encoded data removed]"
          },
          "metadata": {
            "needs_background": "light"
          }
        },
        {
          "output_type": "display_data",
          "data": {
            "text/plain": [
              "<Figure size 432x288 with 1 Axes>"
            ],
            "image/png": "[encoded data removed]"
          },
          "metadata": {
            "needs_background": "light"
          }
        },
        {
          "output_type": "display_data",
          "data": {
            "text/plain": [
              "<Figure size 432x288 with 1 Axes>"
            ],
            "image/png": "[encoded data removed]"
          },
          "metadata": {
            "needs_background": "light"
          }
        },
        {
          "output_type": "display_data",
          "data": {
            "text/plain": [
              "<Figure size 432x288 with 1 Axes>"
            ],
            "image/png": "[encoded data removed]"
          },
          "metadata": {
            "needs_background": "light"
          }
        }
      ],
      "source": [
        "from sklearn.ensemble import RandomForestRegressor\n",
        "import scipy.stats\n",
        "\n",
        "# Define kernel: combine ARD kernel with a white noise kernel\n",
        "cl_ard_kern = GPy.kern.RBF(X.shape[1], ARD = True) + GPy.kern.White(X.shape[1])\n",
        "hl_ard_kern = GPy.kern.RBF(X.shape[1], ARD = True) + GPy.kern.White(X.shape[1])\n",
        "\n",
        "# Create a GP model for each of CL and HL\n",
        "cl_ard_gp = GPy.models.GPRegression(X_train, CL_train.reshape(-1, 1), cl_ard_kern)\n",
        "hl_ard_gp = GPy.models.GPRegression(X_train, HL_train.reshape(-1, 1), hl_ard_kern)\n",
        "\n",
        "# Optimise - The HL model did not converge to 1 value - it generally hovered around 500-700\n",
        "cl_ard_gp.optimize_restarts(num_restarts = 5)\n",
        "hl_ard_gp.optimize_restarts(num_restarts = 5)\n",
        "\n",
        "# Predictions with ARD and a GP\n",
        "cl_pred_gp = cl_ard_gp.predict(X_test)\n",
        "hl_pred_gp = hl_ard_gp.predict(X_test)\n",
        "\n",
        "# Calculate the mean squared error\n",
        "cl_ard_mse = mean_squared_error(CL_test, cl_pred_gp[0])\n",
        "hl_ard_mse = mean_squared_error(HL_test, hl_pred_gp[0])\n",
        "\n",
        "# Calculate the mean absolute error\n",
        "cl_ard_mae = mean_absolute_error(CL_test, cl_pred_gp[0])\n",
        "hl_ard_mae = mean_absolute_error(HL_test, hl_pred_gp[0])\n",
        "\n",
        "# Get the lengthscale for each feature\n",
        "print(f'\\nThe lengthscale values for the CL RBF kernel are: \\n {cl_ard_kern.rbf.lengthscale}')\n",
        "print(f'\\nThe lengthscale values for the HL RBF kernel are: \\n {hl_ard_kern.rbf.lengthscale}')\n",
        "\n",
        "cl_feat_imp_gp = list(cl_ard_kern.rbf.lengthscale)\n",
        "hl_feat_imp_gp = list(hl_ard_kern.rbf.lengthscale)\n",
        "\n",
        "# The higher the lengthscale value, the lower the importance of the variable\n",
        "cl_feat_imp_gp = [1/i for i in cl_feat_imp_gp]\n",
        "hl_feat_imp_gp = [1/i for i in hl_feat_imp_gp]\n",
        "\n",
        "# Plot a bar chart of the feature importance\n",
        "feat_list = [str(i) for i in feature_names.values()]\n",
        "plt.subplot(2, 1, 1)\n",
        "plt.barh(feat_list, cl_feat_imp_gp)\n",
        "plt.title('CL Feature importance for GP ARD kernel')\n",
        "plt.subplot(2, 1, 2)\n",
        "fig2 = plt.barh(feat_list, hl_feat_imp_gp)\n",
        "plt.title('HL Feature importance for GP ARD kernel')\n",
        "plt.tight_layout()\n",
        "plt.show()\n",
        "\n",
        "# Create a random forest regressor\n",
        "cl_for_reg = RandomForestRegressor()\n",
        "hl_for_reg = RandomForestRegressor()\n",
        "\n",
        "# Fit and predict\n",
        "cl_for_reg.fit(X_train, CL_train)\n",
        "hl_for_reg.fit(X_train, HL_train)\n",
        "\n",
        "cl_pred_rf = cl_for_reg.predict(X_test)\n",
        "hl_pred_rf = hl_for_reg.predict(X_test)\n",
        "\n",
        "#Calculate the mean squared error\n",
        "cl_rf_mse = mean_squared_error(CL_test, cl_pred_rf)\n",
        "hl_rf_mse = mean_squared_error(HL_test, hl_pred_rf)\n",
        "\n",
        "# Calculate the mean absolute error\n",
        "cl_rf_mae = mean_absolute_error(CL_test, cl_pred_rf)\n",
        "hl_rf_mae = mean_absolute_error(HL_test, hl_pred_rf)\n",
        "\n",
        "# Use the feature_importance parameter to analyse feature relevance\n",
        "plt.subplot(2, 1, 1)\n",
        "plt.barh(feat_list, cl_for_reg.feature_importances_)\n",
        "plt.title('CL Feature importance for Random Forest Regressor')\n",
        "plt.subplot(2, 1, 2)\n",
        "fig2 = plt.barh(feat_list, hl_for_reg.feature_importances_)\n",
        "plt.title('HL Feature importance for Random Forest Regressor')\n",
        "plt.tight_layout()\n",
        "plt.show()\n",
        "\n",
        "# Return the MSE of each model:\n",
        "print(f'Cold Load mean squared error when using GP with ARD = {cl_ard_mse}')\n",
        "print(f'Hot Load mean squared error when using GP with ARD = {hl_ard_mse}')\n",
        "print(f'Cold Load mean squared error when using Random Forest = {cl_rf_mse}')\n",
        "print(f'Hot Load mean squared error when using Random Forest = {hl_rf_mse}')\n",
        "\n",
        "# Return the MAE of each model:\n",
        "print(f'Cold Load mean absolute error when using GP with ARD = {cl_ard_mae}')\n",
        "print(f'Hot Load mean absolute error when using GP with ARD = {hl_ard_mae}')\n",
        "print(f'Cold Load mean absolute error when using Random Forest = {cl_rf_mae}')\n",
        "print(f'Hot Load mean absolute error when using Random Forest = {hl_rf_mae}')\n",
        "\n",
        "# As a comparison, find out the correlation between the different models' feature selection - CL with CL, HL with HL\n",
        "# CL\n",
        "x, y = cl_for_reg.feature_importances_, cl_feat_imp_gp\n",
        "slope, intercept, r, p, stderr = scipy.stats.linregress(x, y)\n",
        "line = f'Regression line: y={intercept:.2f}+{slope:.2f}x, r={r:.2f}'\n",
        "fig, ax = plt.subplots()\n",
        "ax.plot(x, y, linewidth=0, marker='s', label='Data points')\n",
        "ax.plot(x, intercept + slope * x, label=line)\n",
        "ax.set_xlabel('Random Forest feature importance')\n",
        "ax.set_ylabel('GP feature importance with ARD')\n",
        "ax.legend(facecolor='white')\n",
        "plt.title('Correlation between CL GP and RF feature selection')\n",
        "plt.show()\n",
        "\n",
        "# HL\n",
        "x, y = hl_for_reg.feature_importances_, hl_feat_imp_gp\n",
        "slope, intercept, r, p, stderr = scipy.stats.linregress(x, y)\n",
        "line = f'Regression line: y={intercept:.2f}+{slope:.2f}x, r={r:.2f}'\n",
        "fig, ax = plt.subplots()\n",
        "ax.plot(x, y, linewidth=0, marker='s', label='Data points')\n",
        "ax.plot(x, intercept + slope * x, label=line)\n",
        "ax.set_xlabel('Random Forest feature importance')\n",
        "ax.set_ylabel('GP feature importance with ARD')\n",
        "ax.legend(facecolor='white')\n",
        "plt.title('Correlation between HL GP and RF feature selection')\n",
        "plt.show()\n",
        "\n",
        "# We can do the same for each type of model: GP vs GP (CL and HL) and RF vs RF (CL and HL)\n",
        "x, y = hl_for_reg.feature_importances_, hl_feat_imp_gp\n",
        "slope, intercept, r, p, stderr = scipy.stats.linregress(x, y)\n",
        "line = f'Regression line: y={intercept:.2f}+{slope:.2f}x, r={r:.2f}'\n",
        "fig, ax = plt.subplots()\n",
        "ax.plot(x, y, linewidth=0, marker='s', label='Data points')\n",
        "ax.plot(x, intercept + slope * x, label=line)\n",
        "ax.set_xlabel('GP CL feature importance with ARD')\n",
        "ax.set_ylabel('GP HL feature importance with ARD')\n",
        "ax.legend(facecolor='white')\n",
        "plt.title('Correlation between CL and HL feature selection when using GP')\n",
        "plt.show()\n",
        "\n",
        "x, y = cl_for_reg.feature_importances_, hl_for_reg.feature_importances_\n",
        "slope, intercept, r, p, stderr = scipy.stats.linregress(x, y)\n",
        "line = f'Regression line: y={intercept:.2f}+{slope:.2f}x, r={r:.2f}'\n",
        "fig, ax = plt.subplots()\n",
        "ax.plot(x, y, linewidth=0, marker='s', label='Data points')\n",
        "ax.plot(x, intercept + slope * x, label=line)\n",
        "ax.set_xlabel('Random Forest CL feature importance')\n",
        "ax.set_ylabel('Random Forest HL feature importance')\n",
        "ax.legend(facecolor='white')\n",
        "plt.title('Correlation between CL and HL feature selection when using RF')\n",
        "plt.show()"
      ]
    },
    {
      "cell_type": "markdown",
      "source": [
        "**Discussion of the results** \\\n",
        "**Correlation** \\\n",
        "On this run of the code, we can see that there was a very weak positive correlation between the feature importances of GP and RF regressors. However, this is closer to being 0 than to showing any significant relationship. \\\n",
        "The positive correlation was slightly stronger when considering the hot load than the cold load. \\\n",
        "We have also provided a graph of feature importance correlation when using the same model on both cold load and hot load. We can see that the Random Forest Regression model was more inclined to assign a similar feature importance for both hot and cold loads, whereas the correlation was closer to 0 for the GP model. \\\n",
        "The bar charts here show this difference in feature importance for all of the models. Relative compactness, surface area, and wall area, were relatively important in all models, with overall height much less important in GP models than in RF models .\\\n",
        "Several runs of this block of code provided slightly different results, possibly because each GP model did not converge to the same value each time. \\\n",
        "**Accuracy** \\\n",
        "If we use mean squared error as a metric, then GP performed slightly better on both hot and cold loads, whereas if we use mean absolute error as a metric, the converse is true."
      ],
      "metadata": {
        "id": "4dtdZEta_U35"
      }
    },
    {
      "cell_type": "markdown",
      "metadata": {
        "id": "8DLwQwgtFVs2"
      },
      "source": [
        "## Exercise 4. Improving the GP performance with a good kernel design (2 points)\n",
        "\n",
        "In this section we are going to try to improve the performance of the previous GP (for both HL and CL) by using a more complicated kernel, in which we combine several covariance functions, and which is able to better fit the data.\n",
        "\n",
        "Test several kernel designs by making combinations using sums and products and for the best design obtained calculate the performance in terms of MAE and MSE. In addition, analyze if this design allows to improve the performance of the conservative load estimation in terms of total energy generated and presence of faults (extension of Exercise 2). For these designs continue considering the ARD-kernel in order not to lose the interpretability of the model. Among the combinations to check, I advise to include:\n",
        "* Matern kernel 52   \n",
        "* Matern kernel 32\n",
        "* RadQuad\n",
        "\n",
        "and their linear combinations with RBF kernel.\n",
        "\n",
        "\n"
      ]
    },
    {
      "cell_type": "code",
      "execution_count": null,
      "metadata": {
        "id": "-ZlxZP7zIqD3",
        "colab": {
          "base_uri": "https://localhost:8080/"
        },
        "outputId": "f3de4c4a-9af3-4a26-a74b-d158220cd322"
      },
      "outputs": [
        {
          "output_type": "stream",
          "name": "stdout",
          "text": [
            "Done\n",
            "Done\n",
            "Done\n",
            "Done\n",
            "Done\n",
            "Done\n",
            "The lowest CL MAE when using the sum of two kernels with ARD is: 344.2802276695868, obtained when using   \u001b[1mMat52.     \u001b[0;0m  |  value  |  constraints  |  priors\n",
            "  \u001b[1mvariance   \u001b[0;0m  |    1.0  |      +ve      |        \n",
            "  \u001b[1mlengthscale\u001b[0;0m  |   (8,)  |      +ve      |          \u001b[1mRatQuad.   \u001b[0;0m  |  value  |  constraints  |  priors\n",
            "  \u001b[1mvariance   \u001b[0;0m  |    1.0  |      +ve      |        \n",
            "  \u001b[1mlengthscale\u001b[0;0m  |   (8,)  |      +ve      |        \n",
            "  \u001b[1mpower      \u001b[0;0m  |    2.0  |      +ve      |        \n",
            "The lowest CL MSE when using the sum of two kernels with ARD is: 10000, obtained when using None\n",
            "The lowest HL MAE when using the sum of two kernels with ARD is: 0.17387721679864976, obtained when using   \u001b[1mMat52.     \u001b[0;0m  |  value  |  constraints  |  priors\n",
            "  \u001b[1mvariance   \u001b[0;0m  |    1.0  |      +ve      |        \n",
            "  \u001b[1mlengthscale\u001b[0;0m  |   (8,)  |      +ve      |          \u001b[1mrbf.       \u001b[0;0m  |  value  |  constraints  |  priors\n",
            "  \u001b[1mvariance   \u001b[0;0m  |    1.0  |      +ve      |        \n",
            "  \u001b[1mlengthscale\u001b[0;0m  |   (8,)  |      +ve      |        \n",
            "The lowest HL MSE when using the sum of two kernels with ARD is: 0.12587291462999833, obtained when using   \u001b[1mMat52.     \u001b[0;0m  |  value  |  constraints  |  priors\n",
            "  \u001b[1mvariance   \u001b[0;0m  |    1.0  |      +ve      |        \n",
            "  \u001b[1mlengthscale\u001b[0;0m  |   (8,)  |      +ve      |          \u001b[1mrbf.       \u001b[0;0m  |  value  |  constraints  |  priors\n",
            "  \u001b[1mvariance   \u001b[0;0m  |    1.0  |      +ve      |        \n",
            "  \u001b[1mlengthscale\u001b[0;0m  |   (8,)  |      +ve      |        \n",
            "The lowest CL MAE when using the product of two kernels with ARD is: 10000, obtained when using None\n",
            "The lowest CL MSE when using the product of two kernels with ARD is: 10000, obtained when using None\n",
            "The lowest HL MAE when using the product of two kernels with ARD is: 10000, obtained when using None\n",
            "The lowest HL MSE when using the product of two kernels with ARD is: 10000, obtained when using None\n"
          ]
        }
      ],
      "source": [
        "# Sums of kernels are themselves kernels\n",
        "# We can include the 4 kernels above, and form linear combinations\n",
        "# We can use use the optimum parameters from the previous exercises\n",
        "# Multipliers for linear combinations\n",
        "\n",
        "from itertools import combinations\n",
        "\n",
        "# Individual kernels\n",
        "m32 = GPy.kern.Matern32(8, ARD = True)\n",
        "m52 = GPy.kern.Matern52(8, ARD = True)\n",
        "quad = GPy.kern.RatQuad(8, ARD = True)\n",
        "rbf = GPy.kern.RBF(8, ARD = True)\n",
        "white = GPy.kern.White(8)\n",
        "\n",
        "# Permutations of 2 kernels\n",
        "ker_list = combinations([m32, m52, quad, rbf], 2)\n",
        "\n",
        "cl_best_sum_mae = 10000\n",
        "cl_best_sum_mse = 10000\n",
        "cl_best_sum_mse_name = \"None\"\n",
        "cl_best_sum_mae_name = \"None\"\n",
        "\n",
        "hl_best_sum_mae = 10000\n",
        "hl_best_sum_mse = 10000\n",
        "hl_best_sum_mse_name = \"None\"\n",
        "hl_best_sum_mae_name = \"None\"\n",
        "\n",
        "cl_best_prod_mae = 10000\n",
        "cl_best_prod_mse = 10000\n",
        "cl_best_prod_mse_name = \"None\"\n",
        "cl_best_prod_mae_name = \"None\"\n",
        "\n",
        "hl_best_prod_mae = 10000\n",
        "hl_best_prod_mse = 10000\n",
        "hl_best_prod_mse_name = \"None\"\n",
        "hl_best_prod_mae_name = \"None\"\n",
        "\n",
        "# Exploring sums of 2 kernels\n",
        "for i in list(ker_list):\n",
        "  comb_kern = i[0] + i[1] + white\n",
        "\n",
        "  # Create a GP model for each of CL and HL\n",
        "  cl_gp = GPy.models.GPRegression(X_train, CL_train.reshape(-1, 1), comb_kern)\n",
        "  hl_gp = GPy.models.GPRegression(X_train, HL_train.reshape(-1, 1), comb_kern)\n",
        "\n",
        "  # Optimize\n",
        "  cl_gp.optimize()\n",
        "  hl_gp.optimize()\n",
        "\n",
        "  # Predictions with ARD and a GP\n",
        "  cl_pred = cl_gp.predict(X_test)\n",
        "  hl_pred = hl_gp.predict(X_test)\n",
        "\n",
        "  # Calculate the mean squared error\n",
        "  cl_mse = mean_squared_error(CL_test, cl_pred[0])\n",
        "  hl_mse = mean_squared_error(HL_test, hl_pred[0])\n",
        "\n",
        "  if cl_mse < cl_best_sum_mse:\n",
        "    cl_best_sum_mse = cl_mse\n",
        "    cl_best_sum_mse_name = comb_kern\n",
        "\n",
        "  if hl_mse < hl_best_sum_mse:\n",
        "    hl_best_sum_mse = hl_mse\n",
        "    hl_best_sum_mse_name = str(i[0]) + str(i[1])\n",
        "\n",
        "  # Calculate the mean absolute error\n",
        "  cl_mae = mean_absolute_error(CL_test, cl_pred[0])\n",
        "  hl_mae = mean_absolute_error(HL_test, hl_pred[0])\n",
        "\n",
        "  if cl_mae < cl_best_sum_mae:\n",
        "    cl_best_sum_mae = cl_mae\n",
        "    cl_best_sum_mae_name = str(i[0]) + str(i[1])\n",
        "\n",
        "  if hl_mae < hl_best_sum_mae:\n",
        "    hl_best_sum_mae = hl_mae\n",
        "    hl_best_sum_mae_name = str(i[0]) + str(i[1])\n",
        "\n",
        "  print(\"Done\")\n",
        "\n",
        "# Exploring product of 2 kernels\n",
        "for i in list(ker_list):\n",
        "\n",
        "  comb_kern = i[0] * i[1] * white\n",
        "\n",
        "  # Create a GP model for each of CL and HL\n",
        "  cl_gp = GPy.models.GPRegression(X_train, CL_train.reshape(-1, 1), comb_kern)\n",
        "  hl_gp = GPy.models.GPRegression(X_train, HL_train.reshape(-1, 1), comb_kern)\n",
        "\n",
        "  # Optimise\n",
        "  cl_gp.optimize()\n",
        "  hl_gp.optimize()\n",
        "\n",
        "  # Predictions with ARD and a GP\n",
        "  cl_pred = cl_gp.predict(X_test)\n",
        "  hl_pred = hl_gp.predict(X_test)\n",
        "\n",
        "  # Calculate the mean squared error\n",
        "  cl_mse = mean_squared_error(CL_test, cl_pred[0])\n",
        "  hl_mse = mean_squared_error(HL_test, hl_pred[0])\n",
        "\n",
        "  if cl_mse < cl_best_sum_mse:\n",
        "    cl_best_sum_mse = cl_mse\n",
        "    cl_best_sum_mse_name = str(i[0]) + str(i[1])\n",
        "\n",
        "  if hl_mse < hl_best_prod_mse:\n",
        "    hl_best_prod_mse = hl_mse\n",
        "    hl_best_prod_mse_name = str(i[0]) + str(i[1])\n",
        "\n",
        "  # Calculate the mean absolute error\n",
        "  cl_mae = mean_absolute_error(CL_test, cl_pred[0])\n",
        "  hl_mae = mean_absolute_error(HL_test, hl_pred[0])\n",
        "\n",
        "  if cl_mae < cl_best_prod_mae:\n",
        "    cl_best_prod_mae = cl_mae\n",
        "    cl_best_prod_mae_name = str(i[0]) + str(i[1])\n",
        "\n",
        "  if hl_mae < hl_best_prod_mae:\n",
        "    hl_best_prod_mae = hl_mae\n",
        "    hl_best_prod_mae_name = str(i[0]) + str(i[1])\n",
        "\n",
        "  print(\"Done\")\n",
        "\n",
        "# Print the results\n",
        "print(f'The lowest CL MAE when using the sum of two kernels with ARD is: {cl_best_sum_mae}, obtained when using {cl_best_sum_mae_name}')\n",
        "print(f'The lowest CL MSE when using the sum of two kernels with ARD is: {cl_best_sum_mse}, obtained when using {cl_best_sum_mse_name}')\n",
        "print(f'The lowest HL MAE when using the sum of two kernels with ARD is: {hl_best_sum_mae}, obtained when using {hl_best_sum_mae_name}')\n",
        "print(f'The lowest HL MSE when using the sum of two kernels with ARD is: {hl_best_sum_mse}, obtained when using {hl_best_sum_mse_name}')\n",
        "print(f'The lowest CL MAE when using the product of two kernels with ARD is: {cl_best_prod_mae}, obtained when using {cl_best_prod_mae_name}')\n",
        "print(f'The lowest CL MSE when using the product of two kernels with ARD is: {cl_best_prod_mse}, obtained when using {cl_best_prod_mse_name}')\n",
        "print(f'The lowest HL MAE when using the product of two kernels with ARD is: {hl_best_prod_mae}, obtained when using {hl_best_prod_mae_name}')\n",
        "print(f'The lowest HL MSE when using the product of two kernels with ARD is: {hl_best_prod_mse}, obtained when using {hl_best_prod_mse_name}')\n"
      ]
    },
    {
      "cell_type": "code",
      "source": [
        "# We can then take the best model, calculate its 95% confidence interval, and compare it with the first model.\n",
        "# In our case it was the same for HL and CL\n",
        "sum_cl_kern = m52 + quad + white\n",
        "sum_hl_kern = m52 + rbf + white\n",
        "\n",
        "cl_comp_model = GPy.models.GPRegression(X_train, CL_train.reshape(-1, 1), sum_cl_kern)\n",
        "hl_comp_model = GPy.models.GPRegression(X_train, HL_train.reshape(-1, 1), sum_hl_kern)\n",
        "\n",
        "cl_comp_model.optimize()\n",
        "hl_comp_model.optimize()\n",
        "\n",
        "# We can use predict_quantiles to get the confidence range, according to the GPy documentation\n",
        "cl_comp_conf_int = cl_comp_model.predict_quantiles(X_test)\n",
        "hl_comp_conf_int = hl_comp_model.predict_quantiles(X_test)\n",
        "\n",
        "# Then we compare this with the upper limit of the actual results, keeping track of the number of system failures\n",
        "cl_new_total_fail, hl_new_total_fail = 0, 0\n",
        "cl_new_tot_en, hl_new_tot_en = 0, 0\n",
        "\n",
        "# We use the second column as the upper bound\n",
        "for i in range(test_samp):\n",
        "\n",
        "  # Update total energy\n",
        "  cl_new_tot_en += cl_comp_conf_int[1][i]\n",
        "  hl_new_tot_en += hl_conf_int[1][i]\n",
        "\n",
        "  # Compare predicted with actual\n",
        "  if CL_test[i] > cl_comp_conf_int[1][i]:\n",
        "    cl_new_total_fail += 1\n",
        "  if HL_test[i] > hl_comp_conf_int[1][i]:\n",
        "    hl_new_total_fail += 1\n",
        "\n",
        "# Actual failures as a percentage of total samples\n",
        "cl_new_fail_pc, hl_new_fail_pc = 100*cl_new_total_fail/test_samp, 100*hl_new_total_fail/test_samp\n",
        "\n",
        "# Print the results\n",
        "print(f'\\n{\"{:.2f}\".format(cl_new_fail_pc)}% of CL systems failed when using the 95% confidence interval')\n",
        "print(f'This was a difference of {cl_new_fail_pc - cl_fail_pc}% compared with the result when using an RBF kernel')\n",
        "print(f'{\"{:.2f}\".format(hl_new_fail_pc)}% of HL systems failed when using the 95% confidence interval')\n",
        "print(f'This was a difference of {hl_new_fail_pc - hl_fail_pc}% compared with the result when using an RBF kernel')\n",
        "\n",
        "print(f'The total amount of energy produced in CL when using the 95% confidence interval was {cl_new_tot_en}')\n",
        "print(f'This was a difference of {cl_new_tot_en - cl_tot_en}% compared with the result when using an RBF kernel')\n",
        "print(f'The total amount of energy produced in CL when using the 95% confidence interval was {hl_new_tot_en}')\n",
        "print(f'This was a difference of {hl_new_tot_en - cl_tot_en}% compared with the result when using an RBF kernel')"
      ],
      "metadata": {
        "colab": {
          "base_uri": "https://localhost:8080/"
        },
        "id": "adVxqEOVK8Hb",
        "outputId": "ed76f5b5-039b-4326-9227-30fe73a2a479"
      },
      "execution_count": null,
      "outputs": [
        {
          "output_type": "stream",
          "name": "stdout",
          "text": [
            "\n",
            "0.00% of CL systems failed when using the 95% confidence interval\n",
            "This was a difference of -3.2467532467532467% compared with the result when using an RBF kernel\n",
            "8.44% of HL systems failed when using the 95% confidence interval\n",
            "This was a difference of 3.896103896103896% compared with the result when using an RBF kernel\n",
            "The total amount of energy produced in CL when using the 95% confidence interval was [3967.8780119]\n",
            "This was a difference of [-296.16205487]% compared with the result when using an RBF kernel\n",
            "The total amount of energy produced in CL when using the 95% confidence interval was [3645.69694901]\n",
            "This was a difference of [-618.34311776]% compared with the result when using an RBF kernel\n"
          ]
        }
      ]
    },
    {
      "cell_type": "markdown",
      "source": [
        "**Discussion of the results** \\\n",
        "**System failures**:\n",
        "Using a custom kernel over the range that we explored was beneficial in the Cold Load case, reducibg the percentage of system failures to 0. However, in the Hot Load case, the percentage of system failures almost doubled.\\\n",
        "**Success of kernel combinations**:\n",
        "When exploring a range of sums and products of kernels, most of the models failed to give an MSE which was less than 10,000. The only ones that did were the combination of RBF and Mat52, and RBF and RatQuad (but even this last combination produced bad results in terms of our metrics. \\\n",
        "**Energy production** \\\n",
        "The total energy production decreased in both cases. In the case of CL, this means we were successful, as we managed to reduce both system failures (to 0) and energy production, suggesting an optimal distribution of energy over all of the houses. Although energy production in HL decreased, this is not a sign of improvement since our goal was to minimise system failures, which almost doubled.\n"
      ],
      "metadata": {
        "id": "EkgM-tI3XZEo"
      }
    },
    {
      "cell_type": "markdown",
      "metadata": {
        "id": "tEboR7MqHFUO"
      },
      "source": [
        "For the remainder of the practice consider as kernel the sum of a RBF and a Matern52 kernel with ARD."
      ]
    },
    {
      "cell_type": "markdown",
      "metadata": {
        "id": "uPF3FDCIWPaf"
      },
      "source": [
        "## Exercise 5. Comparison with Kernel Ridge Regression (KRR) (1 point)\n",
        "\n",
        "As we have seen in the theory session, the predictive mean of our GP (linear) matches the solution of the Ridge Regression model, and the same is true if we use kernel versions in both models. However, there are significant differences between the two models that we will analyze in this section.\n",
        "\n",
        "To do this, solve the above problems (HL and CL) using a KRR and analyze how they perform in performance (MAE and MSE), training and test times.\n",
        "\n",
        "If for the KRR model you want to use a complex kernel (for instance, the sum of a RBF and a Matern52 kernel) you can use those from [sklearn's GP kernel library](https://scikit-learn.org/stable/modules/gaussian_process.html#kernels-for-gaussian-processes) with the KRR model. In this case, be careful how you explore the model parameters to prevent the cross-validation process from being endless.\n",
        "\n",
        "Finally, discuss the advantages/disadvantages of this model in comparison to GPs.\n"
      ]
    },
    {
      "cell_type": "markdown",
      "source": [],
      "metadata": {
        "id": "RV55MQL6sYIa"
      }
    },
    {
      "cell_type": "markdown",
      "source": [
        "## Discussion\n",
        "\n",
        "**Linear KRR vs Linear GP.**\n",
        "\n",
        "\n",
        "1.   The mean absolute errors obtained using both the models are similar. On the other hand, the mean squared errors obtained using Linear KRR are slightly better than those obtained using Linear GP. These are in accordance with what we have seen in the theory session.\n",
        "2.   We observe that Linear KRR (~ 0.05s) is much much faster than Linear GP (~1.9s). Therefore, we expect the former to be prefered in practice.\n",
        "\n",
        "**RBF KRR vs RBF GP.**\n",
        "\n",
        "\n",
        "1.   The MSE and MAE obtained using RBF KRR are slightly better than those obtained using RBF GP in Exercise 2. However, with proper optimization, we expect RBF GP to produce lower MSE and MAE.\n",
        "2.   We observe that RBF KRR (~ 0.05s) is much much faster than RBF GP (~1.9s). Therefore, we expect the former to be prefered in practice.\n",
        "\n",
        "Moreover, we see that the MSE and MAE provided by the linear models are much worse than those provided by the models based on RBF. Therefore, we can conclude that the given dataset is best described using a nonlinear model.\n",
        "\n",
        "Note: We can cross validate the parameters in the KRR models to get optimal MSE and MAE. However, the MAE and MSE we obtained are comparable and even better than those obtained using GP.\n",
        "\n"
      ],
      "metadata": {
        "id": "vCmF9WMpscye"
      }
    },
    {
      "cell_type": "code",
      "execution_count": null,
      "metadata": {
        "id": "Vnspy6z_I9Z4"
      },
      "outputs": [],
      "source": [
        "from sklearn.kernel_ridge import KernelRidge as KRR\n",
        "from sklearn.svm import SVC\n",
        "from sklearn.svm import LinearSVC\n",
        "from sklearn.model_selection import GridSearchCV\n",
        "import time"
      ]
    },
    {
      "cell_type": "code",
      "source": [
        "#@title Using Linear KRR\n",
        "\n",
        "# heating\n",
        "start=time.time()\n",
        "ridgeLin_hl = KRR(alpha=0.01, kernel='linear', gamma=0.1) #High a = allow errors, High Gamma = overfitted\n",
        "ridgeLin_hl.fit(X_train, HL_train)\n",
        "\n",
        "# Predictions and metrics\n",
        "Ypred_ridgeLin_hl = ridgeLin_hl.predict(X_test)\n",
        "maeLin_HL = mean_absolute_error(HL_test, Ypred_ridgeLin_hl)\n",
        "mseLin_HL=mean_squared_error(HL_test, Ypred_ridgeLin_hl)\n",
        "stop=time.time()\n",
        "\n",
        "print(f\"The MAE for HL is: {maeLin_HL}\")\n",
        "print(f\"The MSE for HL is: {mseLin_HL}\")\n",
        "print(f\"Time taken: {stop-start} seconds\\n\")\n",
        "\n",
        "# cooling\n",
        "start=time.time()\n",
        "ridgeLin_cl = KRR(alpha=0.01, kernel='linear', gamma=0.1)\n",
        "ridgeLin_cl.fit(X_train, CL_train)\n",
        "\n",
        "# Predictions and metrics\n",
        "Ypred_ridgeLin_cl = ridgeLin_cl.predict(X_test)\n",
        "maeLin_cl = mean_absolute_error(CL_test, Ypred_ridgeLin_cl)\n",
        "mseLin_cl = mean_squared_error(CL_test, Ypred_ridgeLin_cl)\n",
        "stop=time.time()\n",
        "print(\"CL MAE: \", maeLin_cl)\n",
        "print(\"CL MSE: \", mseLin_cl)\n",
        "print(\"Time taken: \"+str(stop-start)+' sec')"
      ],
      "metadata": {
        "colab": {
          "base_uri": "https://localhost:8080/"
        },
        "id": "6Tr725YlnZjf",
        "outputId": "5bd82f52-b7d0-4f88-fe1d-de29b5ad76f9"
      },
      "execution_count": null,
      "outputs": [
        {
          "output_type": "stream",
          "name": "stdout",
          "text": [
            "The MAE for HL is: 22.350700727251862\n",
            "The MSE for HL is: 509.62377946769266\n",
            "Time taken: 0.04628300666809082 seconds\n",
            "\n",
            "CL MAE:  24.37159498031582\n",
            "CL MSE:  604.6552016388241\n",
            "Time taken: 0.040075063705444336 sec\n"
          ]
        }
      ]
    },
    {
      "cell_type": "code",
      "source": [
        "#@title Using RBF KKR\n",
        "\n",
        "# heating\n",
        "start = time.time()\n",
        "\n",
        "# Define and train our model\n",
        "ridgeRbf_hl = KRR(alpha=0.0001, kernel='rbf', gamma=0.1)\n",
        "ridgeRbf_hl.fit(X_train, HL_train)\n",
        "\n",
        "# Predictions and metrics\n",
        "Ypred_ridgeRbf_hl = ridgeRbf_hl.predict(X_test)\n",
        "mae_hl=mean_absolute_error(HL_test, Ypred_ridgeRbf_hl)\n",
        "mse_hl=mean_squared_error(HL_test, Ypred_ridgeRbf_hl)\n",
        "stop=time.time()\n",
        "\n",
        "print(f\"Hot Load MAE: {mae_hl}\")\n",
        "print(f\"Hot Load MSE: {mse_hl}\")\n",
        "print(f\"Time taken: {stop - start} seconds\\n\")\n",
        "\n",
        "# cooling\n",
        "start = time.time()\n",
        "\n",
        "# Define and train our model\n",
        "ridgeRbf_cl = KRR(alpha=0.001, kernel='rbf', gamma=0.1)\n",
        "ridgeRbf_cl.fit(X_train, CL_train)\n",
        "\n",
        "# Predictions and metrics\n",
        "Ypred_ridgeRbf_cl = ridgeRbf_cl.predict(X_test)\n",
        "mae_cl = mean_absolute_error(CL_test, Ypred_ridgeRbf_cl)\n",
        "mse_cl = mean_squared_error(CL_test, Ypred_ridgeRbf_cl)\n",
        "stop = time.time()\n",
        "\n",
        "print(f\"Hot Load MAE: {mae_cl}\")\n",
        "print(f\"Hot Load MSE: {mse_cl}\")\n",
        "print(f\"Time taken: {stop - start} seconds\\n\")\n"
      ],
      "metadata": {
        "colab": {
          "base_uri": "https://localhost:8080/"
        },
        "id": "SAb1e8n6nctw",
        "outputId": "2ba2850b-f1e6-4d6b-bf1f-a92df38ee239"
      },
      "execution_count": null,
      "outputs": [
        {
          "output_type": "stream",
          "name": "stdout",
          "text": [
            "Hot Load MAE: 0.3790014565519538\n",
            "Hot Load MSE: 0.30367397930638124\n",
            "Time taken: 0.07214593887329102 seconds\n",
            "\n",
            "Hot Load MAE: 0.9878596360483645\n",
            "Hot Load MSE: 1.9668527874227166\n",
            "Time taken: 0.07538723945617676 seconds\n",
            "\n"
          ]
        }
      ]
    },
    {
      "cell_type": "code",
      "source": [
        "#@title Using Linear Gaussian Process\n",
        "\n",
        "# heating\n",
        "print(\"Heating Load:\\n\")\n",
        "\n",
        "start = time.time()\n",
        "\n",
        "# Define and train our model\n",
        "lin_kernel = GPy.kern.Linear(input_dim=8)\n",
        "m_l_hl = GPy.models.GPRegression(X_train,HL_train.reshape(-1,1),lin_kernel)\n",
        "m_l_hl.optimize_restarts(num_restarts = 5)\n",
        "\n",
        "display(m_l_hl)\n",
        "\n",
        "# Predictions and errors\n",
        "pred_l_hl = m_l_hl.predict(X_test)\n",
        "mse_l_hl = mean_squared_error(HL_test,pred_l_hl[0])\n",
        "mae_l_hl = mean_absolute_error(HL_test, pred_l_hl[0])\n",
        "stop = time.time()\n",
        "\n",
        "print(f\"Hot Load MAE: {mae_l_hl}\")\n",
        "print(f\"Hot Load MSE: {mse_l_hl}\")\n",
        "print(f\"Time taken: {stop - start} seconds\")\n",
        "\n",
        "# cooling\n",
        "print(\"\\nCooling Load:\\n\")\n",
        "start = time.time()\n",
        "\n",
        "# Define and train our model\n",
        "lin_kernel = GPy.kern.Linear(input_dim=8)\n",
        "m_l_cl = GPy.models.GPRegression(X_train,CL_train.reshape(-1,1),lin_kernel)\n",
        "m_l_cl.optimize_restarts(num_restarts = 5)\n",
        "display(m_l_cl)\n",
        "\n",
        "# Predict and errors\n",
        "pred_l_cl = m_l_cl.predict(X_test)\n",
        "mse_l_cl = mean_squared_error(CL_test,pred_l_cl[0])\n",
        "mae_l_cl = mean_absolute_error(CL_test, pred_l_cl[0])\n",
        "stop=time.time()\n",
        "\n",
        "print(f\"Cool Load MAE {mae_l_cl}\")\n",
        "print(f\"Cool Load MSE {mse_l_cl}\")\n",
        "print(f\"Time taken: {stop - start} seconds\")"
      ],
      "metadata": {
        "colab": {
          "base_uri": "https://localhost:8080/",
          "height": 735
        },
        "id": "iZ6KBqetnhby",
        "outputId": "ba6bd067-33f5-4ff6-b88f-ebd3ad72cfce"
      },
      "execution_count": null,
      "outputs": [
        {
          "output_type": "stream",
          "name": "stdout",
          "text": [
            "Heating Load:\n",
            "\n",
            "Optimization restart 1/5, f = 2789.462476905267\n",
            "Optimization restart 2/5, f = 2789.4624769060556\n",
            "Optimization restart 3/5, f = 2789.462476905265\n",
            "Optimization restart 4/5, f = 2789.4624769343295\n",
            "Optimization restart 5/5, f = 2789.462476905286\n"
          ]
        },
        {
          "output_type": "display_data",
          "data": {
            "text/plain": [
              "<GPy.models.gp_regression.GPRegression at 0x7ff2ee56b5b0>"
            ],
            "text/html": [
              "<style type=\"text/css\">\n",
              ".pd{\n",
              "    font-family: \"Courier New\", Courier, monospace !important;\n",
              "    width: 100%;\n",
              "    padding: 3px;\n",
              "}\n",
              "</style>\n",
              "\n",
              "<p class=pd>\n",
              "<b>Model</b>: GP regression<br>\n",
              "<b>Objective</b>: 2789.462476905265<br>\n",
              "<b>Number of Parameters</b>: 2<br>\n",
              "<b>Number of Optimization Parameters</b>: 2<br>\n",
              "<b>Updates</b>: True<br>\n",
              "</p>\n",
              "<style type=\"text/css\">\n",
              ".tg  {font-family:\"Courier New\", Courier, monospace !important;padding:2px 3px;word-break:normal;border-collapse:collapse;border-spacing:0;border-color:#DCDCDC;margin:0px auto;width:100%;}\n",
              ".tg td{font-family:\"Courier New\", Courier, monospace !important;font-weight:bold;color:#444;background-color:#F7FDFA;border-style:solid;border-width:1px;overflow:hidden;word-break:normal;border-color:#DCDCDC;}\n",
              ".tg th{font-family:\"Courier New\", Courier, monospace !important;font-weight:normal;color:#fff;background-color:#26ADE4;border-style:solid;border-width:1px;overflow:hidden;word-break:normal;border-color:#DCDCDC;}\n",
              ".tg .tg-left{font-family:\"Courier New\", Courier, monospace !important;font-weight:normal;text-align:left;}\n",
              ".tg .tg-center{font-family:\"Courier New\", Courier, monospace !important;font-weight:normal;text-align:center;}\n",
              ".tg .tg-right{font-family:\"Courier New\", Courier, monospace !important;font-weight:normal;text-align:right;}\n",
              "</style>\n",
              "<table class=\"tg\"><tr><th><b>  GP_regression.         </b></th><th><b>            value</b></th><th><b>constraints</b></th><th><b>priors</b></th></tr>\n",
              "<tr><td class=tg-left>  linear.variances       </td><td class=tg-right>8.011618442608038</td><td class=tg-center>    +ve    </td><td class=tg-center>      </td></tr>\n",
              "<tr><td class=tg-left>  Gaussian_noise.variance</td><td class=tg-right>505.7384991060263</td><td class=tg-center>    +ve    </td><td class=tg-center>      </td></tr>\n",
              "</table>"
            ]
          },
          "metadata": {}
        },
        {
          "output_type": "stream",
          "name": "stdout",
          "text": [
            "Hot Load MAE: 22.348780805765344\n",
            "Hot Load MSE: 513.1916922294686\n",
            "Time taken: 10.005203008651733 seconds\n",
            "\n",
            "Cooling Load:\n",
            "\n",
            "Optimization restart 1/5, f = 2850.167711038378\n",
            "Optimization restart 2/5, f = 2850.1677110371497\n",
            "Optimization restart 3/5, f = 2850.1677110371497\n",
            "Optimization restart 4/5, f = 2850.1677110371747\n",
            "Optimization restart 5/5, f = 2850.1677110875385\n"
          ]
        },
        {
          "output_type": "display_data",
          "data": {
            "text/plain": [
              "<GPy.models.gp_regression.GPRegression at 0x7ff2edf2e610>"
            ],
            "text/html": [
              "<style type=\"text/css\">\n",
              ".pd{\n",
              "    font-family: \"Courier New\", Courier, monospace !important;\n",
              "    width: 100%;\n",
              "    padding: 3px;\n",
              "}\n",
              "</style>\n",
              "\n",
              "<p class=pd>\n",
              "<b>Model</b>: GP regression<br>\n",
              "<b>Objective</b>: 2850.1677110371497<br>\n",
              "<b>Number of Parameters</b>: 2<br>\n",
              "<b>Number of Optimization Parameters</b>: 2<br>\n",
              "<b>Updates</b>: True<br>\n",
              "</p>\n",
              "<style type=\"text/css\">\n",
              ".tg  {font-family:\"Courier New\", Courier, monospace !important;padding:2px 3px;word-break:normal;border-collapse:collapse;border-spacing:0;border-color:#DCDCDC;margin:0px auto;width:100%;}\n",
              ".tg td{font-family:\"Courier New\", Courier, monospace !important;font-weight:bold;color:#444;background-color:#F7FDFA;border-style:solid;border-width:1px;overflow:hidden;word-break:normal;border-color:#DCDCDC;}\n",
              ".tg th{font-family:\"Courier New\", Courier, monospace !important;font-weight:normal;color:#fff;background-color:#26ADE4;border-style:solid;border-width:1px;overflow:hidden;word-break:normal;border-color:#DCDCDC;}\n",
              ".tg .tg-left{font-family:\"Courier New\", Courier, monospace !important;font-weight:normal;text-align:left;}\n",
              ".tg .tg-center{font-family:\"Courier New\", Courier, monospace !important;font-weight:normal;text-align:center;}\n",
              ".tg .tg-right{font-family:\"Courier New\", Courier, monospace !important;font-weight:normal;text-align:right;}\n",
              "</style>\n",
              "<table class=\"tg\"><tr><th><b>  GP_regression.         </b></th><th><b>            value</b></th><th><b>constraints</b></th><th><b>priors</b></th></tr>\n",
              "<tr><td class=tg-left>  linear.variances       </td><td class=tg-right>6.423650386617924</td><td class=tg-center>    +ve    </td><td class=tg-center>      </td></tr>\n",
              "<tr><td class=tg-left>  Gaussian_noise.variance</td><td class=tg-right>618.3683414218469</td><td class=tg-center>    +ve    </td><td class=tg-center>      </td></tr>\n",
              "</table>"
            ]
          },
          "metadata": {}
        },
        {
          "output_type": "stream",
          "name": "stdout",
          "text": [
            "Cool Load MAE 24.37307231721667\n",
            "Cool Load MSE 608.6321773011739\n",
            "Time taken: 11.561689615249634 seconds\n"
          ]
        }
      ]
    },
    {
      "cell_type": "markdown",
      "metadata": {
        "id": "egZWR1mcUBHd"
      },
      "source": [
        "## Exercise 6. Using sparse GPs (2 points)\n",
        "\n",
        "Implement a sparse version of the above GPs optimized to find a set of **inducing points** on which the GP can rely to make the prediction. Measure the performance of the model (analyze the marginal likelihood of the model and the MSE) for 20, 40 and 100 inducing points and discuss whether the sparse solution is adequate.\n",
        "\n"
      ]
    },
    {
      "cell_type": "markdown",
      "source": [
        "As expected, we get better MSE and MAE as the number of including points increase, and the execution times also increase accordingly. Considering we are only using a sparse dataset, the MSE and MAE are quite good.\n",
        "\n",
        "We also observe,as expected, that the log likelihood decreases in magnitude as the number of including points increase.\n",
        "\n",
        "The execution time of the full data GP is around 50 seconds, which is much higher than the execution times we have obtained above using sparse GP. Therefore, we see that the sparse version gives us considerable improvement vis-a-vis time."
      ],
      "metadata": {
        "id": "3DMy3b52swd6"
      }
    },
    {
      "cell_type": "code",
      "execution_count": null,
      "metadata": {
        "id": "t2_H8d1CI-5u",
        "colab": {
          "base_uri": "https://localhost:8080/"
        },
        "outputId": "b1cffe2e-f2f8-44da-90b4-31032e9517c7"
      },
      "outputs": [
        {
          "output_type": "stream",
          "name": "stdout",
          "text": [
            "Inducing point: 20\n",
            "Mean Absolute error of Heating Load: 2.2133302461697215\n",
            "Mean Absolute error of Cooling Load: 2.221297031484277\n",
            "Mean Squared error of Heating Load: 10.059875430085775\n",
            "Mean Squared error of Cooling Load: 10.604081146543118\n",
            "Marginal Likelihood of Heating Load Model: -1610.978827695184\n",
            "Marginal Likelihood of Cooling Load Model: -1554.9437392345608\n",
            "Execution time of Heating Load is 1.5954115390777588 seconds.\n",
            "Execution time of Cooling Load is 2.00040340423584 seconds.\n",
            "\n",
            "Inducing point: 40\n",
            "Mean Absolute error of Heating Load: 2.0077929470944404\n",
            "Mean Absolute error of Cooling Load: 2.099525959650312\n",
            "Mean Squared error of Heating Load: 8.463853675399077\n",
            "Mean Squared error of Cooling Load: 9.613622321247878\n",
            "Marginal Likelihood of Heating Load Model: -1596.765530061508\n",
            "Marginal Likelihood of Cooling Load Model: -1517.2402848482707\n",
            "Execution time of Heating Load is 1.919316291809082 seconds.\n",
            "Execution time of Cooling Load is 1.8161940574645996 seconds.\n",
            "\n",
            "Inducing point: 100\n",
            "Mean Absolute error of Heating Load: 1.7309014448344509\n",
            "Mean Absolute error of Cooling Load: 1.8706680170399461\n",
            "Mean Squared error of Heating Load: 5.076238850658095\n",
            "Mean Squared error of Cooling Load: 7.517363969874097\n",
            "Marginal Likelihood of Heating Load Model: -1574.7803419574266\n",
            "Marginal Likelihood of Cooling Load Model: -1447.6868720590064\n",
            "Execution time of Heating Load is 6.78470253944397 seconds.\n",
            "Execution time of Cooling Load is 4.357205390930176 seconds.\n",
            "\n"
          ]
        }
      ],
      "source": [
        "inducing_points = [20,40,100]\n",
        "mse_sparse_hl = []\n",
        "mae_sparse_hl = []\n",
        "mse_sparse_cl = []\n",
        "mae_sparse_cl = []\n",
        "log_likelihood_cl = []\n",
        "log_likelihood_hl = []\n",
        "index = 0\n",
        "for i in inducing_points:\n",
        "\n",
        "  start_hl = time.time()\n",
        "\n",
        "  # for Heating\n",
        "  # Define inducing points\n",
        "  Z = np.random.rand(i,8)*2\n",
        "  hlSparse_gp = GPy.models.SparseGPRegression(X_train, HL_train.reshape(-1,1),Z=Z)\n",
        "  # Likelihood Variance\n",
        "  hlSparse_gp.likelihood.variance = 0.05\n",
        "  # Fixing Inducing Points\n",
        "  hlSparse_gp.inducing_inputs.fix()\n",
        "  hlSparse_gp.optimize('bfgs')\n",
        "  # Prediction\n",
        "  pred_hl = hlSparse_gp.predict(X_test)\n",
        "  mse_hl_sp = mean_squared_error(HL_test,pred_hl[0])\n",
        "  mae_hl_sp = mean_absolute_error(HL_test,pred_hl[0])\n",
        "\n",
        "  stop_hl=time.time()\n",
        "\n",
        "\n",
        "  # for Cooling\n",
        "\n",
        "  start_cl=time.time()\n",
        "\n",
        "  #Define inducing points\n",
        "  Z = np.random.rand(i,8)*1\n",
        "  clSparse_gp = GPy.models.SparseGPRegression(X_train, CL_train.reshape(-1,1),Z=Z)\n",
        "  #Likelihood Variance\n",
        "  clSparse_gp.likelihood.variance = 0.05\n",
        "  #Fixing Inducing Points\n",
        "  clSparse_gp.inducing_inputs.fix()\n",
        "  clSparse_gp.optimize('bfgs')\n",
        "  # Prediction\n",
        "  pred_cl = clSparse_gp.predict(X_test)\n",
        "  mse_cl_sp = mean_squared_error(CL_test,pred_cl[0])\n",
        "  mae_cl_sp = mean_absolute_error(CL_test,pred_cl[0])\n",
        "\n",
        "  stop_cl=time.time()\n",
        "\n",
        "  # update array entries\n",
        "  mae_sparse_hl.append(mae_hl_sp)\n",
        "  mse_sparse_hl.append(mse_hl_sp)\n",
        "  mae_sparse_cl.append(mae_cl_sp)\n",
        "  mse_sparse_cl.append(mse_cl_sp)\n",
        "  log_likelihood_cl.append(hlSparse_gp.log_likelihood())\n",
        "  log_likelihood_hl.append(clSparse_gp.log_likelihood())\n",
        "\n",
        "  # Print outputs\n",
        "  print(\"Inducing point: \" + str(i))\n",
        "  print(\"Mean Absolute error of Heating Load: \" + str(mae_sparse_hl[index]))\n",
        "  print(\"Mean Absolute error of Cooling Load: \" + str(mae_sparse_cl[index]))\n",
        "  print(\"Mean Squared error of Heating Load: \" + str(mse_sparse_hl[index]))\n",
        "  print(\"Mean Squared error of Cooling Load: \" + str(mse_sparse_cl[index]))\n",
        "  print(\"Marginal Likelihood of Heating Load Model: \" + str(log_likelihood_hl[index][0][0]))\n",
        "  print(\"Marginal Likelihood of Cooling Load Model: \" + str(log_likelihood_cl[index][0][0]))\n",
        "  print('Execution time of Heating Load is ' + str(stop_hl-start_hl)+' seconds.')\n",
        "  print('Execution time of Cooling Load is ' + str(stop_cl-start_cl)+' seconds.')\n",
        "  print(\"\")\n",
        "  index = index+1"
      ]
    },
    {
      "cell_type": "markdown",
      "metadata": {
        "id": "u10ZnxtHVdhR"
      },
      "source": [
        "## Exercise 7. Comparison with a SVR (1 point)\n",
        "\n",
        "To fully analyze the advantages of the sparse GP we have just designed compare its performance (MSE, MAE and training and execution times) with a Support Vector Machine for regression which as we know is also able to provide sparse solutions. Compare also the sparsity of both solutions, choose the sparse GP from the previous section that you consider more suitable and compare its number of *inducing points* with the number of support vectors of the SVR.\n",
        "\n",
        "For the SVR you can use either a RBF kernel or a complex one (for instance RBF+MAtern52) using the GP kernel library.\n",
        "\n"
      ]
    },
    {
      "cell_type": "markdown",
      "source": [
        "## Discussion\n",
        "\n",
        "The number of support vectors used by the SVR models is 550+, which is greater than the number of including points. However, the execution times of the SVR models is much lower than the sparse GP.\n",
        "\n",
        "**Using sparse GP (100 including points):**\n",
        "\n",
        "Mean Squared error of Heating Load: 5.087977051138854\n",
        "\n",
        "Mean Absolute error of Heating Load: 1.731796786642887\n",
        "\n",
        "Mean Squared error of Cooling Load: 8.05089437434583\n",
        "\n",
        "Mean Absolute error of Cooling Load: 1.9235544001173182\n",
        "\n",
        "\n",
        "**Using SVR:**\n",
        "\n",
        "Mean squared error for HL is 9.12723316237592\n",
        "\n",
        "Mean absolute error for HL is 2.0142352099114693\n",
        "\n",
        "Mean squared error for CL is 16.067639972873643\n",
        "\n",
        "Mean absolute error for CL is 3.0071729146976587\n",
        "\n",
        "The MAE and MSE values obtained using sparse GP are much better than the SVR."
      ],
      "metadata": {
        "id": "aq0vAJMksogq"
      }
    },
    {
      "cell_type": "code",
      "execution_count": null,
      "metadata": {
        "id": "cuNPdm_DJBTz",
        "colab": {
          "base_uri": "https://localhost:8080/"
        },
        "outputId": "367c0468-0b26-4c57-b7f1-347ef4257ec5"
      },
      "outputs": [
        {
          "output_type": "stream",
          "name": "stdout",
          "text": [
            "Execution time is 0.07908058166503906 seconds.\n",
            "Number of support vectors is 569\n",
            "Mean squared error for HL is 9.12723316237592\n",
            "Mean absolute error for HL is 2.0142352099114693\n"
          ]
        }
      ],
      "source": [
        "#@title Heating SVR\n",
        "from sklearn.svm import SVR\n",
        "import time\n",
        "\n",
        "start = time.time()\n",
        "regressor_hl = SVR(kernel = 'rbf')\n",
        "regressor_hl.fit(X_train, HL_train)\n",
        "y_pred_hl = regressor_hl.predict(X_test)\n",
        "suppvec_hl=regressor_hl.support_vectors_\n",
        "\n",
        "print('Execution time is ' +str(time.time()-start) +' seconds.')\n",
        "print('Number of support vectors is ' +str(suppvec_hl.shape[0]))\n",
        "print('Mean squared error for HL is ' +str(mean_squared_error(y_pred_hl, HL_test)))\n",
        "print('Mean absolute error for HL is '+str(mean_absolute_error(y_pred_hl, HL_test)))\n"
      ]
    },
    {
      "cell_type": "code",
      "source": [
        "#@title Cooling SVR\n",
        "\n",
        "start=time.time()\n",
        "regressor_cl = SVR(kernel = 'rbf')\n",
        "regressor_cl.fit(X_train, CL_train)\n",
        "y_pred_cl = regressor_cl.predict(X_test)\n",
        "suppvec_cl=regressor_cl.support_vectors_\n",
        "\n",
        "print('Execution time is ' +str(time.time()-start) +' seconds.')\n",
        "print('Number of support vectors is ' +str(suppvec_cl.shape[0]))\n",
        "print('Mean squared error for CL is ' +str(mean_squared_error(y_pred_hl, CL_test)))\n",
        "print('Mean absolute error for CL is '+str(mean_absolute_error(y_pred_hl, CL_test)))\n"
      ],
      "metadata": {
        "colab": {
          "base_uri": "https://localhost:8080/"
        },
        "id": "-ZyHuFHfnrE0",
        "outputId": "e6048099-56fd-4989-b83b-61f60fdceafa"
      },
      "execution_count": null,
      "outputs": [
        {
          "output_type": "stream",
          "name": "stdout",
          "text": [
            "Execution time is 0.03910112380981445 seconds.\n",
            "Number of support vectors is 576\n",
            "Mean squared error for CL is 16.067639972873643\n",
            "Mean absolute error for CL is 3.0071729146976587\n"
          ]
        }
      ]
    }
  ],
  "metadata": {
    "colab": {
      "provenance": [],
      "include_colab_link": true
    },
    "kernelspec": {
      "display_name": "Python 3",
      "language": "python",
      "name": "python3"
    },
    "language_info": {
      "codemirror_mode": {
        "name": "ipython",
        "version": 3
      },
      "file_extension": ".py",
      "mimetype": "text/x-python",
      "name": "python",
      "nbconvert_exporter": "python",
      "pygments_lexer": "ipython3",
      "version": "3.9.2"
    }
  },
  "nbformat": 4,
  "nbformat_minor": 0
}